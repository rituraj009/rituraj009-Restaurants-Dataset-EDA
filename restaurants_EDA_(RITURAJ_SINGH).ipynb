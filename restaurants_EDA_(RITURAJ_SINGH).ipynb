{
  "nbformat": 4,
  "nbformat_minor": 0,
  "metadata": {
    "colab": {
      "provenance": [],
      "authorship_tag": "ABX9TyMUCgKz+FukZk0ErXEb01ES",
      "include_colab_link": true
    },
    "kernelspec": {
      "name": "python3",
      "display_name": "Python 3"
    },
    "language_info": {
      "name": "python"
    }
  },
  "cells": [
    {
      "cell_type": "markdown",
      "metadata": {
        "id": "view-in-github",
        "colab_type": "text"
      },
      "source": [
        "<a href=\"https://colab.research.google.com/github/rituraj009/rituraj009-Restaurants-Dataset-EDA/blob/main/restaurants_EDA_(RITURAJ_SINGH).ipynb\" target=\"_parent\"><img src=\"https://colab.research.google.com/assets/colab-badge.svg\" alt=\"Open In Colab\"/></a>"
      ]
    },
    {
      "cell_type": "markdown",
      "source": [
        "**Importing Libraries necessory to run the code**"
      ],
      "metadata": {
        "id": "HpX4EBLKc3U8"
      }
    },
    {
      "cell_type": "code",
      "execution_count": 2,
      "metadata": {
        "id": "_DTY7_hAcbhR"
      },
      "outputs": [],
      "source": [
        "import pandas as pd\n",
        "import numpy as np\n",
        "import matplotlib.pyplot as plt\n",
        "import seaborn as sns"
      ]
    },
    {
      "cell_type": "markdown",
      "source": [
        "**Code to read csv file into Colaboratory**"
      ],
      "metadata": {
        "id": "6f-Vyr0AlII5"
      }
    },
    {
      "cell_type": "code",
      "source": [
        "!pip install -U -q PyDrive\n",
        "from pydrive.auth import GoogleAuth\n",
        "from pydrive.drive import GoogleDrive\n",
        "from google.colab import auth\n",
        "from oauth2client.client import GoogleCredentials"
      ],
      "metadata": {
        "id": "qrSUfsMilMex"
      },
      "execution_count": 6,
      "outputs": []
    },
    {
      "cell_type": "markdown",
      "source": [
        "**Authenticate and creating the PyDrive client**"
      ],
      "metadata": {
        "id": "0a-hYGF3dEb4"
      }
    },
    {
      "cell_type": "code",
      "source": [
        "auth.authenticate_user()\n",
        "gauth = GoogleAuth()\n",
        "gauth.credentials = GoogleCredentials.get_application_default()\n",
        "drive = GoogleDrive(gauth)"
      ],
      "metadata": {
        "id": "nEhl9AmmlaAg"
      },
      "execution_count": 7,
      "outputs": []
    },
    {
      "cell_type": "markdown",
      "source": [
        "**Loading the dataset (resturant.csv) file from google drive**"
      ],
      "metadata": {
        "id": "azv6JlrFl1RQ"
      }
    },
    {
      "cell_type": "code",
      "source": [
        "link = 'https://drive.google.com/file/d/1HoGyUrI3rPFh1mCDXaAFGnR0cqx1E-0_/view?usp=share_link'\n",
        "# to get the id part of the file\n",
        "id = link.split(\"/\")[-2]\n",
        "downloaded = drive.CreateFile({'id':id})\n",
        "downloaded.GetContentFile('restaurants.csv')\n",
        "df = pd.read_csv('restaurants.csv')\n",
        "df.head()  # it will show first 5 rows of the datasets"
      ],
      "metadata": {
        "colab": {
          "base_uri": "https://localhost:8080/",
          "height": 652
        },
        "id": "h-z0LW71l8a4",
        "outputId": "da238d1a-05cf-412e-c379-80ce156871de"
      },
      "execution_count": 227,
      "outputs": [
        {
          "output_type": "execute_result",
          "data": {
            "text/plain": [
              "                                                 url  \\\n",
              "0  https://www.zomato.com/bangalore/jalsa-banasha...   \n",
              "1  https://www.zomato.com/bangalore/spice-elephan...   \n",
              "2  https://www.zomato.com/SanchurroBangalore?cont...   \n",
              "3  https://www.zomato.com/bangalore/addhuri-udupi...   \n",
              "4  https://www.zomato.com/bangalore/grand-village...   \n",
              "\n",
              "                                             address                   name  \\\n",
              "0  942, 21st Main Road, 2nd Stage, Banashankari, ...                  Jalsa   \n",
              "1  2nd Floor, 80 Feet Road, Near Big Bazaar, 6th ...         Spice Elephant   \n",
              "2  1112, Next to KIMS Medical College, 17th Cross...        San Churro Cafe   \n",
              "3  1st Floor, Annakuteera, 3rd Stage, Banashankar...  Addhuri Udupi Bhojana   \n",
              "4  10, 3rd Floor, Lakshmi Associates, Gandhi Baza...          Grand Village   \n",
              "\n",
              "  online_order book_table   rate  votes                             phone  \\\n",
              "0          Yes        Yes  4.1/5    775    080 42297555\\r\\n+91 9743772233   \n",
              "1          Yes         No  4.1/5    787                      080 41714161   \n",
              "2          Yes         No  3.8/5    918                    +91 9663487993   \n",
              "3           No         No  3.7/5     88                    +91 9620009302   \n",
              "4           No         No  3.8/5    166  +91 8026612447\\r\\n+91 9901210005   \n",
              "\n",
              "       location            rest_type  \\\n",
              "0  Banashankari        Casual Dining   \n",
              "1  Banashankari        Casual Dining   \n",
              "2  Banashankari  Cafe, Casual Dining   \n",
              "3  Banashankari          Quick Bites   \n",
              "4  Basavanagudi        Casual Dining   \n",
              "\n",
              "                                          dish_liked  \\\n",
              "0  Pasta, Lunch Buffet, Masala Papad, Paneer Laja...   \n",
              "1  Momos, Lunch Buffet, Chocolate Nirvana, Thai G...   \n",
              "2  Churros, Cannelloni, Minestrone Soup, Hot Choc...   \n",
              "3                                        Masala Dosa   \n",
              "4                                Panipuri, Gol Gappe   \n",
              "\n",
              "                         cuisines approx_cost(for two people)  \\\n",
              "0  North Indian, Mughlai, Chinese                         800   \n",
              "1     Chinese, North Indian, Thai                         800   \n",
              "2          Cafe, Mexican, Italian                         800   \n",
              "3      South Indian, North Indian                         300   \n",
              "4        North Indian, Rajasthani                         600   \n",
              "\n",
              "                                        reviews_list menu_item  \\\n",
              "0  [('Rated 4.0', 'RATED\\n  A beautiful place to ...        []   \n",
              "1  [('Rated 4.0', 'RATED\\n  Had been here for din...        []   \n",
              "2  [('Rated 3.0', \"RATED\\n  Ambience is not that ...        []   \n",
              "3  [('Rated 4.0', \"RATED\\n  Great food and proper...        []   \n",
              "4  [('Rated 4.0', 'RATED\\n  Very good restaurant ...        []   \n",
              "\n",
              "  listed_in(type) listed_in(city)  \n",
              "0          Buffet    Banashankari  \n",
              "1          Buffet    Banashankari  \n",
              "2          Buffet    Banashankari  \n",
              "3          Buffet    Banashankari  \n",
              "4          Buffet    Banashankari  "
            ],
            "text/html": [
              "\n",
              "  <div id=\"df-0767a5cb-54f3-4294-8a4f-67b15ae983e0\">\n",
              "    <div class=\"colab-df-container\">\n",
              "      <div>\n",
              "<style scoped>\n",
              "    .dataframe tbody tr th:only-of-type {\n",
              "        vertical-align: middle;\n",
              "    }\n",
              "\n",
              "    .dataframe tbody tr th {\n",
              "        vertical-align: top;\n",
              "    }\n",
              "\n",
              "    .dataframe thead th {\n",
              "        text-align: right;\n",
              "    }\n",
              "</style>\n",
              "<table border=\"1\" class=\"dataframe\">\n",
              "  <thead>\n",
              "    <tr style=\"text-align: right;\">\n",
              "      <th></th>\n",
              "      <th>url</th>\n",
              "      <th>address</th>\n",
              "      <th>name</th>\n",
              "      <th>online_order</th>\n",
              "      <th>book_table</th>\n",
              "      <th>rate</th>\n",
              "      <th>votes</th>\n",
              "      <th>phone</th>\n",
              "      <th>location</th>\n",
              "      <th>rest_type</th>\n",
              "      <th>dish_liked</th>\n",
              "      <th>cuisines</th>\n",
              "      <th>approx_cost(for two people)</th>\n",
              "      <th>reviews_list</th>\n",
              "      <th>menu_item</th>\n",
              "      <th>listed_in(type)</th>\n",
              "      <th>listed_in(city)</th>\n",
              "    </tr>\n",
              "  </thead>\n",
              "  <tbody>\n",
              "    <tr>\n",
              "      <th>0</th>\n",
              "      <td>https://www.zomato.com/bangalore/jalsa-banasha...</td>\n",
              "      <td>942, 21st Main Road, 2nd Stage, Banashankari, ...</td>\n",
              "      <td>Jalsa</td>\n",
              "      <td>Yes</td>\n",
              "      <td>Yes</td>\n",
              "      <td>4.1/5</td>\n",
              "      <td>775</td>\n",
              "      <td>080 42297555\\r\\n+91 9743772233</td>\n",
              "      <td>Banashankari</td>\n",
              "      <td>Casual Dining</td>\n",
              "      <td>Pasta, Lunch Buffet, Masala Papad, Paneer Laja...</td>\n",
              "      <td>North Indian, Mughlai, Chinese</td>\n",
              "      <td>800</td>\n",
              "      <td>[('Rated 4.0', 'RATED\\n  A beautiful place to ...</td>\n",
              "      <td>[]</td>\n",
              "      <td>Buffet</td>\n",
              "      <td>Banashankari</td>\n",
              "    </tr>\n",
              "    <tr>\n",
              "      <th>1</th>\n",
              "      <td>https://www.zomato.com/bangalore/spice-elephan...</td>\n",
              "      <td>2nd Floor, 80 Feet Road, Near Big Bazaar, 6th ...</td>\n",
              "      <td>Spice Elephant</td>\n",
              "      <td>Yes</td>\n",
              "      <td>No</td>\n",
              "      <td>4.1/5</td>\n",
              "      <td>787</td>\n",
              "      <td>080 41714161</td>\n",
              "      <td>Banashankari</td>\n",
              "      <td>Casual Dining</td>\n",
              "      <td>Momos, Lunch Buffet, Chocolate Nirvana, Thai G...</td>\n",
              "      <td>Chinese, North Indian, Thai</td>\n",
              "      <td>800</td>\n",
              "      <td>[('Rated 4.0', 'RATED\\n  Had been here for din...</td>\n",
              "      <td>[]</td>\n",
              "      <td>Buffet</td>\n",
              "      <td>Banashankari</td>\n",
              "    </tr>\n",
              "    <tr>\n",
              "      <th>2</th>\n",
              "      <td>https://www.zomato.com/SanchurroBangalore?cont...</td>\n",
              "      <td>1112, Next to KIMS Medical College, 17th Cross...</td>\n",
              "      <td>San Churro Cafe</td>\n",
              "      <td>Yes</td>\n",
              "      <td>No</td>\n",
              "      <td>3.8/5</td>\n",
              "      <td>918</td>\n",
              "      <td>+91 9663487993</td>\n",
              "      <td>Banashankari</td>\n",
              "      <td>Cafe, Casual Dining</td>\n",
              "      <td>Churros, Cannelloni, Minestrone Soup, Hot Choc...</td>\n",
              "      <td>Cafe, Mexican, Italian</td>\n",
              "      <td>800</td>\n",
              "      <td>[('Rated 3.0', \"RATED\\n  Ambience is not that ...</td>\n",
              "      <td>[]</td>\n",
              "      <td>Buffet</td>\n",
              "      <td>Banashankari</td>\n",
              "    </tr>\n",
              "    <tr>\n",
              "      <th>3</th>\n",
              "      <td>https://www.zomato.com/bangalore/addhuri-udupi...</td>\n",
              "      <td>1st Floor, Annakuteera, 3rd Stage, Banashankar...</td>\n",
              "      <td>Addhuri Udupi Bhojana</td>\n",
              "      <td>No</td>\n",
              "      <td>No</td>\n",
              "      <td>3.7/5</td>\n",
              "      <td>88</td>\n",
              "      <td>+91 9620009302</td>\n",
              "      <td>Banashankari</td>\n",
              "      <td>Quick Bites</td>\n",
              "      <td>Masala Dosa</td>\n",
              "      <td>South Indian, North Indian</td>\n",
              "      <td>300</td>\n",
              "      <td>[('Rated 4.0', \"RATED\\n  Great food and proper...</td>\n",
              "      <td>[]</td>\n",
              "      <td>Buffet</td>\n",
              "      <td>Banashankari</td>\n",
              "    </tr>\n",
              "    <tr>\n",
              "      <th>4</th>\n",
              "      <td>https://www.zomato.com/bangalore/grand-village...</td>\n",
              "      <td>10, 3rd Floor, Lakshmi Associates, Gandhi Baza...</td>\n",
              "      <td>Grand Village</td>\n",
              "      <td>No</td>\n",
              "      <td>No</td>\n",
              "      <td>3.8/5</td>\n",
              "      <td>166</td>\n",
              "      <td>+91 8026612447\\r\\n+91 9901210005</td>\n",
              "      <td>Basavanagudi</td>\n",
              "      <td>Casual Dining</td>\n",
              "      <td>Panipuri, Gol Gappe</td>\n",
              "      <td>North Indian, Rajasthani</td>\n",
              "      <td>600</td>\n",
              "      <td>[('Rated 4.0', 'RATED\\n  Very good restaurant ...</td>\n",
              "      <td>[]</td>\n",
              "      <td>Buffet</td>\n",
              "      <td>Banashankari</td>\n",
              "    </tr>\n",
              "  </tbody>\n",
              "</table>\n",
              "</div>\n",
              "      <button class=\"colab-df-convert\" onclick=\"convertToInteractive('df-0767a5cb-54f3-4294-8a4f-67b15ae983e0')\"\n",
              "              title=\"Convert this dataframe to an interactive table.\"\n",
              "              style=\"display:none;\">\n",
              "        \n",
              "  <svg xmlns=\"http://www.w3.org/2000/svg\" height=\"24px\"viewBox=\"0 0 24 24\"\n",
              "       width=\"24px\">\n",
              "    <path d=\"M0 0h24v24H0V0z\" fill=\"none\"/>\n",
              "    <path d=\"M18.56 5.44l.94 2.06.94-2.06 2.06-.94-2.06-.94-.94-2.06-.94 2.06-2.06.94zm-11 1L8.5 8.5l.94-2.06 2.06-.94-2.06-.94L8.5 2.5l-.94 2.06-2.06.94zm10 10l.94 2.06.94-2.06 2.06-.94-2.06-.94-.94-2.06-.94 2.06-2.06.94z\"/><path d=\"M17.41 7.96l-1.37-1.37c-.4-.4-.92-.59-1.43-.59-.52 0-1.04.2-1.43.59L10.3 9.45l-7.72 7.72c-.78.78-.78 2.05 0 2.83L4 21.41c.39.39.9.59 1.41.59.51 0 1.02-.2 1.41-.59l7.78-7.78 2.81-2.81c.8-.78.8-2.07 0-2.86zM5.41 20L4 18.59l7.72-7.72 1.47 1.35L5.41 20z\"/>\n",
              "  </svg>\n",
              "      </button>\n",
              "      \n",
              "  <style>\n",
              "    .colab-df-container {\n",
              "      display:flex;\n",
              "      flex-wrap:wrap;\n",
              "      gap: 12px;\n",
              "    }\n",
              "\n",
              "    .colab-df-convert {\n",
              "      background-color: #E8F0FE;\n",
              "      border: none;\n",
              "      border-radius: 50%;\n",
              "      cursor: pointer;\n",
              "      display: none;\n",
              "      fill: #1967D2;\n",
              "      height: 32px;\n",
              "      padding: 0 0 0 0;\n",
              "      width: 32px;\n",
              "    }\n",
              "\n",
              "    .colab-df-convert:hover {\n",
              "      background-color: #E2EBFA;\n",
              "      box-shadow: 0px 1px 2px rgba(60, 64, 67, 0.3), 0px 1px 3px 1px rgba(60, 64, 67, 0.15);\n",
              "      fill: #174EA6;\n",
              "    }\n",
              "\n",
              "    [theme=dark] .colab-df-convert {\n",
              "      background-color: #3B4455;\n",
              "      fill: #D2E3FC;\n",
              "    }\n",
              "\n",
              "    [theme=dark] .colab-df-convert:hover {\n",
              "      background-color: #434B5C;\n",
              "      box-shadow: 0px 1px 3px 1px rgba(0, 0, 0, 0.15);\n",
              "      filter: drop-shadow(0px 1px 2px rgba(0, 0, 0, 0.3));\n",
              "      fill: #FFFFFF;\n",
              "    }\n",
              "  </style>\n",
              "\n",
              "      <script>\n",
              "        const buttonEl =\n",
              "          document.querySelector('#df-0767a5cb-54f3-4294-8a4f-67b15ae983e0 button.colab-df-convert');\n",
              "        buttonEl.style.display =\n",
              "          google.colab.kernel.accessAllowed ? 'block' : 'none';\n",
              "\n",
              "        async function convertToInteractive(key) {\n",
              "          const element = document.querySelector('#df-0767a5cb-54f3-4294-8a4f-67b15ae983e0');\n",
              "          const dataTable =\n",
              "            await google.colab.kernel.invokeFunction('convertToInteractive',\n",
              "                                                     [key], {});\n",
              "          if (!dataTable) return;\n",
              "\n",
              "          const docLinkHtml = 'Like what you see? Visit the ' +\n",
              "            '<a target=\"_blank\" href=https://colab.research.google.com/notebooks/data_table.ipynb>data table notebook</a>'\n",
              "            + ' to learn more about interactive tables.';\n",
              "          element.innerHTML = '';\n",
              "          dataTable['output_type'] = 'display_data';\n",
              "          await google.colab.output.renderOutput(dataTable, element);\n",
              "          const docLink = document.createElement('div');\n",
              "          docLink.innerHTML = docLinkHtml;\n",
              "          element.appendChild(docLink);\n",
              "        }\n",
              "      </script>\n",
              "    </div>\n",
              "  </div>\n",
              "  "
            ]
          },
          "metadata": {},
          "execution_count": 227
        }
      ]
    },
    {
      "cell_type": "code",
      "source": [
        "# Showing various rows & columns\n",
        "df.shape  \n"
      ],
      "metadata": {
        "colab": {
          "base_uri": "https://localhost:8080/",
          "height": 0
        },
        "id": "sv2x8hl-oeFb",
        "outputId": "a3923ec6-a89e-456e-e208-c5115a7ed044"
      },
      "execution_count": 228,
      "outputs": [
        {
          "output_type": "execute_result",
          "data": {
            "text/plain": [
              "(51717, 17)"
            ]
          },
          "metadata": {},
          "execution_count": 228
        }
      ]
    },
    {
      "cell_type": "markdown",
      "source": [
        "**Listing various different columns**"
      ],
      "metadata": {
        "id": "NEzfzHlVq218"
      }
    },
    {
      "cell_type": "code",
      "source": [
        "# This will provide the list of all the columns\n",
        "df.columns "
      ],
      "metadata": {
        "colab": {
          "base_uri": "https://localhost:8080/",
          "height": 0
        },
        "id": "4EXg_EtFq2S-",
        "outputId": "3e214e65-d563-454c-e51e-01c37a1785d9"
      },
      "execution_count": 230,
      "outputs": [
        {
          "output_type": "execute_result",
          "data": {
            "text/plain": [
              "Index(['url', 'address', 'name', 'online_order', 'book_table', 'rate', 'votes',\n",
              "       'phone', 'location', 'rest_type', 'dish_liked', 'cuisines',\n",
              "       'approx_cost(for two people)', 'reviews_list', 'menu_item',\n",
              "       'listed_in(type)', 'listed_in(city)'],\n",
              "      dtype='object')"
            ]
          },
          "metadata": {},
          "execution_count": 230
        }
      ]
    },
    {
      "cell_type": "markdown",
      "source": [
        "**Upon examination of the dataset, it has become clear that there is an excessive number of columns present. These superfluous columns do not contribute to the data analysis process and can be removed to optimize the dataset for analysis.**"
      ],
      "metadata": {
        "id": "pXHeT8HSn0px"
      }
    },
    {
      "cell_type": "code",
      "source": [
        "df = df.drop(['url', 'address', 'phone', 'menu_item', 'dish_liked', 'reviews_list'], axis = 1)\n",
        "df.head()"
      ],
      "metadata": {
        "colab": {
          "base_uri": "https://localhost:8080/",
          "height": 319
        },
        "id": "kcmnGm_urxdI",
        "outputId": "ccc1bb4d-cf23-4a4c-eec5-284b1abca40a"
      },
      "execution_count": 231,
      "outputs": [
        {
          "output_type": "execute_result",
          "data": {
            "text/plain": [
              "                    name online_order book_table   rate  votes      location  \\\n",
              "0                  Jalsa          Yes        Yes  4.1/5    775  Banashankari   \n",
              "1         Spice Elephant          Yes         No  4.1/5    787  Banashankari   \n",
              "2        San Churro Cafe          Yes         No  3.8/5    918  Banashankari   \n",
              "3  Addhuri Udupi Bhojana           No         No  3.7/5     88  Banashankari   \n",
              "4          Grand Village           No         No  3.8/5    166  Basavanagudi   \n",
              "\n",
              "             rest_type                        cuisines  \\\n",
              "0        Casual Dining  North Indian, Mughlai, Chinese   \n",
              "1        Casual Dining     Chinese, North Indian, Thai   \n",
              "2  Cafe, Casual Dining          Cafe, Mexican, Italian   \n",
              "3          Quick Bites      South Indian, North Indian   \n",
              "4        Casual Dining        North Indian, Rajasthani   \n",
              "\n",
              "  approx_cost(for two people) listed_in(type) listed_in(city)  \n",
              "0                         800          Buffet    Banashankari  \n",
              "1                         800          Buffet    Banashankari  \n",
              "2                         800          Buffet    Banashankari  \n",
              "3                         300          Buffet    Banashankari  \n",
              "4                         600          Buffet    Banashankari  "
            ],
            "text/html": [
              "\n",
              "  <div id=\"df-e07c8864-a9a3-4de9-a8a9-23727deb3896\">\n",
              "    <div class=\"colab-df-container\">\n",
              "      <div>\n",
              "<style scoped>\n",
              "    .dataframe tbody tr th:only-of-type {\n",
              "        vertical-align: middle;\n",
              "    }\n",
              "\n",
              "    .dataframe tbody tr th {\n",
              "        vertical-align: top;\n",
              "    }\n",
              "\n",
              "    .dataframe thead th {\n",
              "        text-align: right;\n",
              "    }\n",
              "</style>\n",
              "<table border=\"1\" class=\"dataframe\">\n",
              "  <thead>\n",
              "    <tr style=\"text-align: right;\">\n",
              "      <th></th>\n",
              "      <th>name</th>\n",
              "      <th>online_order</th>\n",
              "      <th>book_table</th>\n",
              "      <th>rate</th>\n",
              "      <th>votes</th>\n",
              "      <th>location</th>\n",
              "      <th>rest_type</th>\n",
              "      <th>cuisines</th>\n",
              "      <th>approx_cost(for two people)</th>\n",
              "      <th>listed_in(type)</th>\n",
              "      <th>listed_in(city)</th>\n",
              "    </tr>\n",
              "  </thead>\n",
              "  <tbody>\n",
              "    <tr>\n",
              "      <th>0</th>\n",
              "      <td>Jalsa</td>\n",
              "      <td>Yes</td>\n",
              "      <td>Yes</td>\n",
              "      <td>4.1/5</td>\n",
              "      <td>775</td>\n",
              "      <td>Banashankari</td>\n",
              "      <td>Casual Dining</td>\n",
              "      <td>North Indian, Mughlai, Chinese</td>\n",
              "      <td>800</td>\n",
              "      <td>Buffet</td>\n",
              "      <td>Banashankari</td>\n",
              "    </tr>\n",
              "    <tr>\n",
              "      <th>1</th>\n",
              "      <td>Spice Elephant</td>\n",
              "      <td>Yes</td>\n",
              "      <td>No</td>\n",
              "      <td>4.1/5</td>\n",
              "      <td>787</td>\n",
              "      <td>Banashankari</td>\n",
              "      <td>Casual Dining</td>\n",
              "      <td>Chinese, North Indian, Thai</td>\n",
              "      <td>800</td>\n",
              "      <td>Buffet</td>\n",
              "      <td>Banashankari</td>\n",
              "    </tr>\n",
              "    <tr>\n",
              "      <th>2</th>\n",
              "      <td>San Churro Cafe</td>\n",
              "      <td>Yes</td>\n",
              "      <td>No</td>\n",
              "      <td>3.8/5</td>\n",
              "      <td>918</td>\n",
              "      <td>Banashankari</td>\n",
              "      <td>Cafe, Casual Dining</td>\n",
              "      <td>Cafe, Mexican, Italian</td>\n",
              "      <td>800</td>\n",
              "      <td>Buffet</td>\n",
              "      <td>Banashankari</td>\n",
              "    </tr>\n",
              "    <tr>\n",
              "      <th>3</th>\n",
              "      <td>Addhuri Udupi Bhojana</td>\n",
              "      <td>No</td>\n",
              "      <td>No</td>\n",
              "      <td>3.7/5</td>\n",
              "      <td>88</td>\n",
              "      <td>Banashankari</td>\n",
              "      <td>Quick Bites</td>\n",
              "      <td>South Indian, North Indian</td>\n",
              "      <td>300</td>\n",
              "      <td>Buffet</td>\n",
              "      <td>Banashankari</td>\n",
              "    </tr>\n",
              "    <tr>\n",
              "      <th>4</th>\n",
              "      <td>Grand Village</td>\n",
              "      <td>No</td>\n",
              "      <td>No</td>\n",
              "      <td>3.8/5</td>\n",
              "      <td>166</td>\n",
              "      <td>Basavanagudi</td>\n",
              "      <td>Casual Dining</td>\n",
              "      <td>North Indian, Rajasthani</td>\n",
              "      <td>600</td>\n",
              "      <td>Buffet</td>\n",
              "      <td>Banashankari</td>\n",
              "    </tr>\n",
              "  </tbody>\n",
              "</table>\n",
              "</div>\n",
              "      <button class=\"colab-df-convert\" onclick=\"convertToInteractive('df-e07c8864-a9a3-4de9-a8a9-23727deb3896')\"\n",
              "              title=\"Convert this dataframe to an interactive table.\"\n",
              "              style=\"display:none;\">\n",
              "        \n",
              "  <svg xmlns=\"http://www.w3.org/2000/svg\" height=\"24px\"viewBox=\"0 0 24 24\"\n",
              "       width=\"24px\">\n",
              "    <path d=\"M0 0h24v24H0V0z\" fill=\"none\"/>\n",
              "    <path d=\"M18.56 5.44l.94 2.06.94-2.06 2.06-.94-2.06-.94-.94-2.06-.94 2.06-2.06.94zm-11 1L8.5 8.5l.94-2.06 2.06-.94-2.06-.94L8.5 2.5l-.94 2.06-2.06.94zm10 10l.94 2.06.94-2.06 2.06-.94-2.06-.94-.94-2.06-.94 2.06-2.06.94z\"/><path d=\"M17.41 7.96l-1.37-1.37c-.4-.4-.92-.59-1.43-.59-.52 0-1.04.2-1.43.59L10.3 9.45l-7.72 7.72c-.78.78-.78 2.05 0 2.83L4 21.41c.39.39.9.59 1.41.59.51 0 1.02-.2 1.41-.59l7.78-7.78 2.81-2.81c.8-.78.8-2.07 0-2.86zM5.41 20L4 18.59l7.72-7.72 1.47 1.35L5.41 20z\"/>\n",
              "  </svg>\n",
              "      </button>\n",
              "      \n",
              "  <style>\n",
              "    .colab-df-container {\n",
              "      display:flex;\n",
              "      flex-wrap:wrap;\n",
              "      gap: 12px;\n",
              "    }\n",
              "\n",
              "    .colab-df-convert {\n",
              "      background-color: #E8F0FE;\n",
              "      border: none;\n",
              "      border-radius: 50%;\n",
              "      cursor: pointer;\n",
              "      display: none;\n",
              "      fill: #1967D2;\n",
              "      height: 32px;\n",
              "      padding: 0 0 0 0;\n",
              "      width: 32px;\n",
              "    }\n",
              "\n",
              "    .colab-df-convert:hover {\n",
              "      background-color: #E2EBFA;\n",
              "      box-shadow: 0px 1px 2px rgba(60, 64, 67, 0.3), 0px 1px 3px 1px rgba(60, 64, 67, 0.15);\n",
              "      fill: #174EA6;\n",
              "    }\n",
              "\n",
              "    [theme=dark] .colab-df-convert {\n",
              "      background-color: #3B4455;\n",
              "      fill: #D2E3FC;\n",
              "    }\n",
              "\n",
              "    [theme=dark] .colab-df-convert:hover {\n",
              "      background-color: #434B5C;\n",
              "      box-shadow: 0px 1px 3px 1px rgba(0, 0, 0, 0.15);\n",
              "      filter: drop-shadow(0px 1px 2px rgba(0, 0, 0, 0.3));\n",
              "      fill: #FFFFFF;\n",
              "    }\n",
              "  </style>\n",
              "\n",
              "      <script>\n",
              "        const buttonEl =\n",
              "          document.querySelector('#df-e07c8864-a9a3-4de9-a8a9-23727deb3896 button.colab-df-convert');\n",
              "        buttonEl.style.display =\n",
              "          google.colab.kernel.accessAllowed ? 'block' : 'none';\n",
              "\n",
              "        async function convertToInteractive(key) {\n",
              "          const element = document.querySelector('#df-e07c8864-a9a3-4de9-a8a9-23727deb3896');\n",
              "          const dataTable =\n",
              "            await google.colab.kernel.invokeFunction('convertToInteractive',\n",
              "                                                     [key], {});\n",
              "          if (!dataTable) return;\n",
              "\n",
              "          const docLinkHtml = 'Like what you see? Visit the ' +\n",
              "            '<a target=\"_blank\" href=https://colab.research.google.com/notebooks/data_table.ipynb>data table notebook</a>'\n",
              "            + ' to learn more about interactive tables.';\n",
              "          element.innerHTML = '';\n",
              "          dataTable['output_type'] = 'display_data';\n",
              "          await google.colab.output.renderOutput(dataTable, element);\n",
              "          const docLink = document.createElement('div');\n",
              "          docLink.innerHTML = docLinkHtml;\n",
              "          element.appendChild(docLink);\n",
              "        }\n",
              "      </script>\n",
              "    </div>\n",
              "  </div>\n",
              "  "
            ]
          },
          "metadata": {},
          "execution_count": 231
        }
      ]
    },
    {
      "cell_type": "markdown",
      "source": [
        "**Now, getting some additional information about the dataset we are working on such as the number of non-null values present and the data types present within each column, This can aid in understanding the structure and integrity of the data.**"
      ],
      "metadata": {
        "id": "jiAngrHRsbl1"
      }
    },
    {
      "cell_type": "code",
      "source": [
        "df.info()"
      ],
      "metadata": {
        "colab": {
          "base_uri": "https://localhost:8080/",
          "height": 0
        },
        "id": "7TSe7AtguLpY",
        "outputId": "3a94318f-42a5-4b74-b819-020852dc50e7"
      },
      "execution_count": 232,
      "outputs": [
        {
          "output_type": "stream",
          "name": "stdout",
          "text": [
            "<class 'pandas.core.frame.DataFrame'>\n",
            "RangeIndex: 51717 entries, 0 to 51716\n",
            "Data columns (total 11 columns):\n",
            " #   Column                       Non-Null Count  Dtype \n",
            "---  ------                       --------------  ----- \n",
            " 0   name                         51717 non-null  object\n",
            " 1   online_order                 51717 non-null  object\n",
            " 2   book_table                   51717 non-null  object\n",
            " 3   rate                         43942 non-null  object\n",
            " 4   votes                        51717 non-null  int64 \n",
            " 5   location                     51696 non-null  object\n",
            " 6   rest_type                    51490 non-null  object\n",
            " 7   cuisines                     51672 non-null  object\n",
            " 8   approx_cost(for two people)  51371 non-null  object\n",
            " 9   listed_in(type)              51717 non-null  object\n",
            " 10  listed_in(city)              51717 non-null  object\n",
            "dtypes: int64(1), object(10)\n",
            "memory usage: 4.3+ MB\n"
          ]
        }
      ]
    },
    {
      "cell_type": "markdown",
      "source": [
        "# Changing the name of some columns for better viewing/understanding of the dataset\n",
        "\n",
        "1. **approx_cost(for two people) --> Cost2plates**  \n",
        "2. **listed_in(type) --> Type** "
      ],
      "metadata": {
        "id": "GDwzhz1QuwZB"
      }
    },
    {
      "cell_type": "code",
      "source": [
        "df.rename(columns = {'approx_cost(for two people)':'Cost2plates', 'listed_in(type)':'Type'}, inplace = True)\n",
        "df.head()"
      ],
      "metadata": {
        "colab": {
          "base_uri": "https://localhost:8080/",
          "height": 206
        },
        "id": "aif7MfzMu4uZ",
        "outputId": "a0a0d6ba-2f95-422a-8a89-e3a6253dbd02"
      },
      "execution_count": 233,
      "outputs": [
        {
          "output_type": "execute_result",
          "data": {
            "text/plain": [
              "                    name online_order book_table   rate  votes      location  \\\n",
              "0                  Jalsa          Yes        Yes  4.1/5    775  Banashankari   \n",
              "1         Spice Elephant          Yes         No  4.1/5    787  Banashankari   \n",
              "2        San Churro Cafe          Yes         No  3.8/5    918  Banashankari   \n",
              "3  Addhuri Udupi Bhojana           No         No  3.7/5     88  Banashankari   \n",
              "4          Grand Village           No         No  3.8/5    166  Basavanagudi   \n",
              "\n",
              "             rest_type                        cuisines Cost2plates    Type  \\\n",
              "0        Casual Dining  North Indian, Mughlai, Chinese         800  Buffet   \n",
              "1        Casual Dining     Chinese, North Indian, Thai         800  Buffet   \n",
              "2  Cafe, Casual Dining          Cafe, Mexican, Italian         800  Buffet   \n",
              "3          Quick Bites      South Indian, North Indian         300  Buffet   \n",
              "4        Casual Dining        North Indian, Rajasthani         600  Buffet   \n",
              "\n",
              "  listed_in(city)  \n",
              "0    Banashankari  \n",
              "1    Banashankari  \n",
              "2    Banashankari  \n",
              "3    Banashankari  \n",
              "4    Banashankari  "
            ],
            "text/html": [
              "\n",
              "  <div id=\"df-152e1294-c6fe-4475-945b-d8bf1ebfe4d6\">\n",
              "    <div class=\"colab-df-container\">\n",
              "      <div>\n",
              "<style scoped>\n",
              "    .dataframe tbody tr th:only-of-type {\n",
              "        vertical-align: middle;\n",
              "    }\n",
              "\n",
              "    .dataframe tbody tr th {\n",
              "        vertical-align: top;\n",
              "    }\n",
              "\n",
              "    .dataframe thead th {\n",
              "        text-align: right;\n",
              "    }\n",
              "</style>\n",
              "<table border=\"1\" class=\"dataframe\">\n",
              "  <thead>\n",
              "    <tr style=\"text-align: right;\">\n",
              "      <th></th>\n",
              "      <th>name</th>\n",
              "      <th>online_order</th>\n",
              "      <th>book_table</th>\n",
              "      <th>rate</th>\n",
              "      <th>votes</th>\n",
              "      <th>location</th>\n",
              "      <th>rest_type</th>\n",
              "      <th>cuisines</th>\n",
              "      <th>Cost2plates</th>\n",
              "      <th>Type</th>\n",
              "      <th>listed_in(city)</th>\n",
              "    </tr>\n",
              "  </thead>\n",
              "  <tbody>\n",
              "    <tr>\n",
              "      <th>0</th>\n",
              "      <td>Jalsa</td>\n",
              "      <td>Yes</td>\n",
              "      <td>Yes</td>\n",
              "      <td>4.1/5</td>\n",
              "      <td>775</td>\n",
              "      <td>Banashankari</td>\n",
              "      <td>Casual Dining</td>\n",
              "      <td>North Indian, Mughlai, Chinese</td>\n",
              "      <td>800</td>\n",
              "      <td>Buffet</td>\n",
              "      <td>Banashankari</td>\n",
              "    </tr>\n",
              "    <tr>\n",
              "      <th>1</th>\n",
              "      <td>Spice Elephant</td>\n",
              "      <td>Yes</td>\n",
              "      <td>No</td>\n",
              "      <td>4.1/5</td>\n",
              "      <td>787</td>\n",
              "      <td>Banashankari</td>\n",
              "      <td>Casual Dining</td>\n",
              "      <td>Chinese, North Indian, Thai</td>\n",
              "      <td>800</td>\n",
              "      <td>Buffet</td>\n",
              "      <td>Banashankari</td>\n",
              "    </tr>\n",
              "    <tr>\n",
              "      <th>2</th>\n",
              "      <td>San Churro Cafe</td>\n",
              "      <td>Yes</td>\n",
              "      <td>No</td>\n",
              "      <td>3.8/5</td>\n",
              "      <td>918</td>\n",
              "      <td>Banashankari</td>\n",
              "      <td>Cafe, Casual Dining</td>\n",
              "      <td>Cafe, Mexican, Italian</td>\n",
              "      <td>800</td>\n",
              "      <td>Buffet</td>\n",
              "      <td>Banashankari</td>\n",
              "    </tr>\n",
              "    <tr>\n",
              "      <th>3</th>\n",
              "      <td>Addhuri Udupi Bhojana</td>\n",
              "      <td>No</td>\n",
              "      <td>No</td>\n",
              "      <td>3.7/5</td>\n",
              "      <td>88</td>\n",
              "      <td>Banashankari</td>\n",
              "      <td>Quick Bites</td>\n",
              "      <td>South Indian, North Indian</td>\n",
              "      <td>300</td>\n",
              "      <td>Buffet</td>\n",
              "      <td>Banashankari</td>\n",
              "    </tr>\n",
              "    <tr>\n",
              "      <th>4</th>\n",
              "      <td>Grand Village</td>\n",
              "      <td>No</td>\n",
              "      <td>No</td>\n",
              "      <td>3.8/5</td>\n",
              "      <td>166</td>\n",
              "      <td>Basavanagudi</td>\n",
              "      <td>Casual Dining</td>\n",
              "      <td>North Indian, Rajasthani</td>\n",
              "      <td>600</td>\n",
              "      <td>Buffet</td>\n",
              "      <td>Banashankari</td>\n",
              "    </tr>\n",
              "  </tbody>\n",
              "</table>\n",
              "</div>\n",
              "      <button class=\"colab-df-convert\" onclick=\"convertToInteractive('df-152e1294-c6fe-4475-945b-d8bf1ebfe4d6')\"\n",
              "              title=\"Convert this dataframe to an interactive table.\"\n",
              "              style=\"display:none;\">\n",
              "        \n",
              "  <svg xmlns=\"http://www.w3.org/2000/svg\" height=\"24px\"viewBox=\"0 0 24 24\"\n",
              "       width=\"24px\">\n",
              "    <path d=\"M0 0h24v24H0V0z\" fill=\"none\"/>\n",
              "    <path d=\"M18.56 5.44l.94 2.06.94-2.06 2.06-.94-2.06-.94-.94-2.06-.94 2.06-2.06.94zm-11 1L8.5 8.5l.94-2.06 2.06-.94-2.06-.94L8.5 2.5l-.94 2.06-2.06.94zm10 10l.94 2.06.94-2.06 2.06-.94-2.06-.94-.94-2.06-.94 2.06-2.06.94z\"/><path d=\"M17.41 7.96l-1.37-1.37c-.4-.4-.92-.59-1.43-.59-.52 0-1.04.2-1.43.59L10.3 9.45l-7.72 7.72c-.78.78-.78 2.05 0 2.83L4 21.41c.39.39.9.59 1.41.59.51 0 1.02-.2 1.41-.59l7.78-7.78 2.81-2.81c.8-.78.8-2.07 0-2.86zM5.41 20L4 18.59l7.72-7.72 1.47 1.35L5.41 20z\"/>\n",
              "  </svg>\n",
              "      </button>\n",
              "      \n",
              "  <style>\n",
              "    .colab-df-container {\n",
              "      display:flex;\n",
              "      flex-wrap:wrap;\n",
              "      gap: 12px;\n",
              "    }\n",
              "\n",
              "    .colab-df-convert {\n",
              "      background-color: #E8F0FE;\n",
              "      border: none;\n",
              "      border-radius: 50%;\n",
              "      cursor: pointer;\n",
              "      display: none;\n",
              "      fill: #1967D2;\n",
              "      height: 32px;\n",
              "      padding: 0 0 0 0;\n",
              "      width: 32px;\n",
              "    }\n",
              "\n",
              "    .colab-df-convert:hover {\n",
              "      background-color: #E2EBFA;\n",
              "      box-shadow: 0px 1px 2px rgba(60, 64, 67, 0.3), 0px 1px 3px 1px rgba(60, 64, 67, 0.15);\n",
              "      fill: #174EA6;\n",
              "    }\n",
              "\n",
              "    [theme=dark] .colab-df-convert {\n",
              "      background-color: #3B4455;\n",
              "      fill: #D2E3FC;\n",
              "    }\n",
              "\n",
              "    [theme=dark] .colab-df-convert:hover {\n",
              "      background-color: #434B5C;\n",
              "      box-shadow: 0px 1px 3px 1px rgba(0, 0, 0, 0.15);\n",
              "      filter: drop-shadow(0px 1px 2px rgba(0, 0, 0, 0.3));\n",
              "      fill: #FFFFFF;\n",
              "    }\n",
              "  </style>\n",
              "\n",
              "      <script>\n",
              "        const buttonEl =\n",
              "          document.querySelector('#df-152e1294-c6fe-4475-945b-d8bf1ebfe4d6 button.colab-df-convert');\n",
              "        buttonEl.style.display =\n",
              "          google.colab.kernel.accessAllowed ? 'block' : 'none';\n",
              "\n",
              "        async function convertToInteractive(key) {\n",
              "          const element = document.querySelector('#df-152e1294-c6fe-4475-945b-d8bf1ebfe4d6');\n",
              "          const dataTable =\n",
              "            await google.colab.kernel.invokeFunction('convertToInteractive',\n",
              "                                                     [key], {});\n",
              "          if (!dataTable) return;\n",
              "\n",
              "          const docLinkHtml = 'Like what you see? Visit the ' +\n",
              "            '<a target=\"_blank\" href=https://colab.research.google.com/notebooks/data_table.ipynb>data table notebook</a>'\n",
              "            + ' to learn more about interactive tables.';\n",
              "          element.innerHTML = '';\n",
              "          dataTable['output_type'] = 'display_data';\n",
              "          await google.colab.output.renderOutput(dataTable, element);\n",
              "          const docLink = document.createElement('div');\n",
              "          docLink.innerHTML = docLinkHtml;\n",
              "          element.appendChild(docLink);\n",
              "        }\n",
              "      </script>\n",
              "    </div>\n",
              "  </div>\n",
              "  "
            ]
          },
          "metadata": {},
          "execution_count": 233
        }
      ]
    },
    {
      "cell_type": "markdown",
      "source": [
        "# Removing Duplicate Rows from the Datasets\n",
        "\n",
        "**Reasons**\n",
        "1. Can introduce inaccuracies and bias into the analysis.\n",
        "2. Can skew the results and make the findings less reliable.\n",
        "3. Duplicate data can also take up unnecessary space and slow down the processing time.\n",
        "4. Removing them ensures that the dataset is clean and accurate. \n",
        "\n"
      ],
      "metadata": {
        "id": "iOvuQ3wRwQ94"
      }
    },
    {
      "cell_type": "code",
      "source": [
        "#it will remove (51717-51609 = 108 rows )\n",
        "df.drop_duplicates(inplace = True)\n",
        "df.shape  "
      ],
      "metadata": {
        "colab": {
          "base_uri": "https://localhost:8080/",
          "height": 0
        },
        "id": "d8UhKCxCw-U5",
        "outputId": "6987619e-3de7-4186-d552-8bdd3eb80df5"
      },
      "execution_count": 234,
      "outputs": [
        {
          "output_type": "execute_result",
          "data": {
            "text/plain": [
              "(51609, 11)"
            ]
          },
          "metadata": {},
          "execution_count": 234
        }
      ]
    },
    {
      "cell_type": "markdown",
      "source": [
        "# Now, cleaning the data column wise. \n",
        "**Starting with rate column**\n"
      ],
      "metadata": {
        "id": "GWUcjvS1x6on"
      }
    },
    {
      "cell_type": "code",
      "source": [
        "#listing out unique values first\n",
        "df['rate'].unique()"
      ],
      "metadata": {
        "colab": {
          "base_uri": "https://localhost:8080/",
          "height": 0
        },
        "id": "8tgn2ouEyLLI",
        "outputId": "19b368a8-51d4-42e7-d976-f4e4aae858cd"
      },
      "execution_count": 235,
      "outputs": [
        {
          "output_type": "execute_result",
          "data": {
            "text/plain": [
              "array(['4.1/5', '3.8/5', '3.7/5', '3.6/5', '4.6/5', '4.0/5', '4.2/5',\n",
              "       '3.9/5', '3.1/5', '3.0/5', '3.2/5', '3.3/5', '2.8/5', '4.4/5',\n",
              "       '4.3/5', 'NEW', '2.9/5', '3.5/5', nan, '2.6/5', '3.8 /5', '3.4/5',\n",
              "       '4.5/5', '2.5/5', '2.7/5', '4.7/5', '2.4/5', '2.2/5', '2.3/5',\n",
              "       '3.4 /5', '-', '3.6 /5', '4.8/5', '3.9 /5', '4.2 /5', '4.0 /5',\n",
              "       '4.1 /5', '3.7 /5', '3.1 /5', '2.9 /5', '3.3 /5', '2.8 /5',\n",
              "       '3.5 /5', '2.7 /5', '2.5 /5', '3.2 /5', '2.6 /5', '4.5 /5',\n",
              "       '4.3 /5', '4.4 /5', '4.9/5', '2.1/5', '2.0/5', '1.8/5', '4.6 /5',\n",
              "       '4.9 /5', '3.0 /5', '4.8 /5', '2.3 /5', '4.7 /5', '2.4 /5',\n",
              "       '2.1 /5', '2.2 /5', '2.0 /5', '1.8 /5'], dtype=object)"
            ]
          },
          "metadata": {},
          "execution_count": 235
        }
      ]
    },
    {
      "cell_type": "markdown",
      "source": [
        "**As we can see, rate column should contain interger/float values intead of having characters in it. \n",
        "Therefore removing**\n",
        "1. '/'\n",
        "2. '-'\n",
        "3. 'NEW'"
      ],
      "metadata": {
        "id": "wu-iw2vhzr_E"
      }
    },
    {
      "cell_type": "code",
      "source": [
        "# Creating a function\n",
        "def handlerate(value):\n",
        "    if(value=='NEW' or value=='-'):\n",
        "        return np.nan\n",
        "    else:\n",
        "        value = str(value).split('/')\n",
        "        value = value[0]\n",
        "        return float(value)\n",
        "    \n",
        "df['rate'] = df['rate'].apply(handlerate)\n",
        "df['rate'].head()"
      ],
      "metadata": {
        "colab": {
          "base_uri": "https://localhost:8080/",
          "height": 0
        },
        "id": "i7bAaANI0Bi5",
        "outputId": "922c4941-4442-4407-de66-e80004078cf7"
      },
      "execution_count": 236,
      "outputs": [
        {
          "output_type": "execute_result",
          "data": {
            "text/plain": [
              "0    4.1\n",
              "1    4.1\n",
              "2    3.8\n",
              "3    3.7\n",
              "4    3.8\n",
              "Name: rate, dtype: float64"
            ]
          },
          "metadata": {},
          "execution_count": 236
        }
      ]
    },
    {
      "cell_type": "markdown",
      "source": [
        "**Now, handling the null values in rate column**\n",
        "**--> Replacing the missing data with a mean value.**"
      ],
      "metadata": {
        "id": "tl6Kma710lAD"
      }
    },
    {
      "cell_type": "code",
      "source": [
        "#first showing the number of null values\n",
        "df.rate.isnull().sum()"
      ],
      "metadata": {
        "colab": {
          "base_uri": "https://localhost:8080/",
          "height": 0
        },
        "id": "8IqsFsLh1jzJ",
        "outputId": "1d760dcd-9760-44d7-c8e4-eb546523f0bc"
      },
      "execution_count": 237,
      "outputs": [
        {
          "output_type": "execute_result",
          "data": {
            "text/plain": [
              "10019"
            ]
          },
          "metadata": {},
          "execution_count": 237
        }
      ]
    },
    {
      "cell_type": "code",
      "source": [
        "#Replacing null values with mean values\n",
        "df['rate'].fillna(df['rate'].mean(), inplace = True)\n",
        "df['rate'].isnull().sum()"
      ],
      "metadata": {
        "colab": {
          "base_uri": "https://localhost:8080/",
          "height": 0
        },
        "id": "4QLkdSiU0ymx",
        "outputId": "1cbac0f0-6263-4057-8fed-54e2aaf36ef0"
      },
      "execution_count": 238,
      "outputs": [
        {
          "output_type": "execute_result",
          "data": {
            "text/plain": [
              "0"
            ]
          },
          "metadata": {},
          "execution_count": 238
        }
      ]
    },
    {
      "cell_type": "markdown",
      "source": [
        "**Looking at dataset again**"
      ],
      "metadata": {
        "id": "eR-luNeO2sWH"
      }
    },
    {
      "cell_type": "code",
      "source": [
        "df.info()"
      ],
      "metadata": {
        "colab": {
          "base_uri": "https://localhost:8080/",
          "height": 0
        },
        "id": "dD_5C0Hf2rQr",
        "outputId": "c0166cba-2dbb-435b-d3f7-0caf2b72e997"
      },
      "execution_count": 239,
      "outputs": [
        {
          "output_type": "stream",
          "name": "stdout",
          "text": [
            "<class 'pandas.core.frame.DataFrame'>\n",
            "Int64Index: 51609 entries, 0 to 51716\n",
            "Data columns (total 11 columns):\n",
            " #   Column           Non-Null Count  Dtype  \n",
            "---  ------           --------------  -----  \n",
            " 0   name             51609 non-null  object \n",
            " 1   online_order     51609 non-null  object \n",
            " 2   book_table       51609 non-null  object \n",
            " 3   rate             51609 non-null  float64\n",
            " 4   votes            51609 non-null  int64  \n",
            " 5   location         51588 non-null  object \n",
            " 6   rest_type        51382 non-null  object \n",
            " 7   cuisines         51564 non-null  object \n",
            " 8   Cost2plates      51265 non-null  object \n",
            " 9   Type             51609 non-null  object \n",
            " 10  listed_in(city)  51609 non-null  object \n",
            "dtypes: float64(1), int64(1), object(9)\n",
            "memory usage: 4.7+ MB\n"
          ]
        }
      ]
    },
    {
      "cell_type": "markdown",
      "source": [
        "**Now Dropping null-values from other columns as the number of rows with null-values is not very large.**"
      ],
      "metadata": {
        "id": "SrjK8VNk3C4D"
      }
    },
    {
      "cell_type": "code",
      "source": [
        "df.dropna(inplace = True)\n",
        "df.head()"
      ],
      "metadata": {
        "colab": {
          "base_uri": "https://localhost:8080/",
          "height": 206
        },
        "id": "nsqu-ZcP3Q4k",
        "outputId": "b5c172e0-5973-4dc5-bc1e-c94fa5a8fb8a"
      },
      "execution_count": 240,
      "outputs": [
        {
          "output_type": "execute_result",
          "data": {
            "text/plain": [
              "                    name online_order book_table  rate  votes      location  \\\n",
              "0                  Jalsa          Yes        Yes   4.1    775  Banashankari   \n",
              "1         Spice Elephant          Yes         No   4.1    787  Banashankari   \n",
              "2        San Churro Cafe          Yes         No   3.8    918  Banashankari   \n",
              "3  Addhuri Udupi Bhojana           No         No   3.7     88  Banashankari   \n",
              "4          Grand Village           No         No   3.8    166  Basavanagudi   \n",
              "\n",
              "             rest_type                        cuisines Cost2plates    Type  \\\n",
              "0        Casual Dining  North Indian, Mughlai, Chinese         800  Buffet   \n",
              "1        Casual Dining     Chinese, North Indian, Thai         800  Buffet   \n",
              "2  Cafe, Casual Dining          Cafe, Mexican, Italian         800  Buffet   \n",
              "3          Quick Bites      South Indian, North Indian         300  Buffet   \n",
              "4        Casual Dining        North Indian, Rajasthani         600  Buffet   \n",
              "\n",
              "  listed_in(city)  \n",
              "0    Banashankari  \n",
              "1    Banashankari  \n",
              "2    Banashankari  \n",
              "3    Banashankari  \n",
              "4    Banashankari  "
            ],
            "text/html": [
              "\n",
              "  <div id=\"df-e58b32db-4e2d-47a0-ad20-bbbe9fa0389c\">\n",
              "    <div class=\"colab-df-container\">\n",
              "      <div>\n",
              "<style scoped>\n",
              "    .dataframe tbody tr th:only-of-type {\n",
              "        vertical-align: middle;\n",
              "    }\n",
              "\n",
              "    .dataframe tbody tr th {\n",
              "        vertical-align: top;\n",
              "    }\n",
              "\n",
              "    .dataframe thead th {\n",
              "        text-align: right;\n",
              "    }\n",
              "</style>\n",
              "<table border=\"1\" class=\"dataframe\">\n",
              "  <thead>\n",
              "    <tr style=\"text-align: right;\">\n",
              "      <th></th>\n",
              "      <th>name</th>\n",
              "      <th>online_order</th>\n",
              "      <th>book_table</th>\n",
              "      <th>rate</th>\n",
              "      <th>votes</th>\n",
              "      <th>location</th>\n",
              "      <th>rest_type</th>\n",
              "      <th>cuisines</th>\n",
              "      <th>Cost2plates</th>\n",
              "      <th>Type</th>\n",
              "      <th>listed_in(city)</th>\n",
              "    </tr>\n",
              "  </thead>\n",
              "  <tbody>\n",
              "    <tr>\n",
              "      <th>0</th>\n",
              "      <td>Jalsa</td>\n",
              "      <td>Yes</td>\n",
              "      <td>Yes</td>\n",
              "      <td>4.1</td>\n",
              "      <td>775</td>\n",
              "      <td>Banashankari</td>\n",
              "      <td>Casual Dining</td>\n",
              "      <td>North Indian, Mughlai, Chinese</td>\n",
              "      <td>800</td>\n",
              "      <td>Buffet</td>\n",
              "      <td>Banashankari</td>\n",
              "    </tr>\n",
              "    <tr>\n",
              "      <th>1</th>\n",
              "      <td>Spice Elephant</td>\n",
              "      <td>Yes</td>\n",
              "      <td>No</td>\n",
              "      <td>4.1</td>\n",
              "      <td>787</td>\n",
              "      <td>Banashankari</td>\n",
              "      <td>Casual Dining</td>\n",
              "      <td>Chinese, North Indian, Thai</td>\n",
              "      <td>800</td>\n",
              "      <td>Buffet</td>\n",
              "      <td>Banashankari</td>\n",
              "    </tr>\n",
              "    <tr>\n",
              "      <th>2</th>\n",
              "      <td>San Churro Cafe</td>\n",
              "      <td>Yes</td>\n",
              "      <td>No</td>\n",
              "      <td>3.8</td>\n",
              "      <td>918</td>\n",
              "      <td>Banashankari</td>\n",
              "      <td>Cafe, Casual Dining</td>\n",
              "      <td>Cafe, Mexican, Italian</td>\n",
              "      <td>800</td>\n",
              "      <td>Buffet</td>\n",
              "      <td>Banashankari</td>\n",
              "    </tr>\n",
              "    <tr>\n",
              "      <th>3</th>\n",
              "      <td>Addhuri Udupi Bhojana</td>\n",
              "      <td>No</td>\n",
              "      <td>No</td>\n",
              "      <td>3.7</td>\n",
              "      <td>88</td>\n",
              "      <td>Banashankari</td>\n",
              "      <td>Quick Bites</td>\n",
              "      <td>South Indian, North Indian</td>\n",
              "      <td>300</td>\n",
              "      <td>Buffet</td>\n",
              "      <td>Banashankari</td>\n",
              "    </tr>\n",
              "    <tr>\n",
              "      <th>4</th>\n",
              "      <td>Grand Village</td>\n",
              "      <td>No</td>\n",
              "      <td>No</td>\n",
              "      <td>3.8</td>\n",
              "      <td>166</td>\n",
              "      <td>Basavanagudi</td>\n",
              "      <td>Casual Dining</td>\n",
              "      <td>North Indian, Rajasthani</td>\n",
              "      <td>600</td>\n",
              "      <td>Buffet</td>\n",
              "      <td>Banashankari</td>\n",
              "    </tr>\n",
              "  </tbody>\n",
              "</table>\n",
              "</div>\n",
              "      <button class=\"colab-df-convert\" onclick=\"convertToInteractive('df-e58b32db-4e2d-47a0-ad20-bbbe9fa0389c')\"\n",
              "              title=\"Convert this dataframe to an interactive table.\"\n",
              "              style=\"display:none;\">\n",
              "        \n",
              "  <svg xmlns=\"http://www.w3.org/2000/svg\" height=\"24px\"viewBox=\"0 0 24 24\"\n",
              "       width=\"24px\">\n",
              "    <path d=\"M0 0h24v24H0V0z\" fill=\"none\"/>\n",
              "    <path d=\"M18.56 5.44l.94 2.06.94-2.06 2.06-.94-2.06-.94-.94-2.06-.94 2.06-2.06.94zm-11 1L8.5 8.5l.94-2.06 2.06-.94-2.06-.94L8.5 2.5l-.94 2.06-2.06.94zm10 10l.94 2.06.94-2.06 2.06-.94-2.06-.94-.94-2.06-.94 2.06-2.06.94z\"/><path d=\"M17.41 7.96l-1.37-1.37c-.4-.4-.92-.59-1.43-.59-.52 0-1.04.2-1.43.59L10.3 9.45l-7.72 7.72c-.78.78-.78 2.05 0 2.83L4 21.41c.39.39.9.59 1.41.59.51 0 1.02-.2 1.41-.59l7.78-7.78 2.81-2.81c.8-.78.8-2.07 0-2.86zM5.41 20L4 18.59l7.72-7.72 1.47 1.35L5.41 20z\"/>\n",
              "  </svg>\n",
              "      </button>\n",
              "      \n",
              "  <style>\n",
              "    .colab-df-container {\n",
              "      display:flex;\n",
              "      flex-wrap:wrap;\n",
              "      gap: 12px;\n",
              "    }\n",
              "\n",
              "    .colab-df-convert {\n",
              "      background-color: #E8F0FE;\n",
              "      border: none;\n",
              "      border-radius: 50%;\n",
              "      cursor: pointer;\n",
              "      display: none;\n",
              "      fill: #1967D2;\n",
              "      height: 32px;\n",
              "      padding: 0 0 0 0;\n",
              "      width: 32px;\n",
              "    }\n",
              "\n",
              "    .colab-df-convert:hover {\n",
              "      background-color: #E2EBFA;\n",
              "      box-shadow: 0px 1px 2px rgba(60, 64, 67, 0.3), 0px 1px 3px 1px rgba(60, 64, 67, 0.15);\n",
              "      fill: #174EA6;\n",
              "    }\n",
              "\n",
              "    [theme=dark] .colab-df-convert {\n",
              "      background-color: #3B4455;\n",
              "      fill: #D2E3FC;\n",
              "    }\n",
              "\n",
              "    [theme=dark] .colab-df-convert:hover {\n",
              "      background-color: #434B5C;\n",
              "      box-shadow: 0px 1px 3px 1px rgba(0, 0, 0, 0.15);\n",
              "      filter: drop-shadow(0px 1px 2px rgba(0, 0, 0, 0.3));\n",
              "      fill: #FFFFFF;\n",
              "    }\n",
              "  </style>\n",
              "\n",
              "      <script>\n",
              "        const buttonEl =\n",
              "          document.querySelector('#df-e58b32db-4e2d-47a0-ad20-bbbe9fa0389c button.colab-df-convert');\n",
              "        buttonEl.style.display =\n",
              "          google.colab.kernel.accessAllowed ? 'block' : 'none';\n",
              "\n",
              "        async function convertToInteractive(key) {\n",
              "          const element = document.querySelector('#df-e58b32db-4e2d-47a0-ad20-bbbe9fa0389c');\n",
              "          const dataTable =\n",
              "            await google.colab.kernel.invokeFunction('convertToInteractive',\n",
              "                                                     [key], {});\n",
              "          if (!dataTable) return;\n",
              "\n",
              "          const docLinkHtml = 'Like what you see? Visit the ' +\n",
              "            '<a target=\"_blank\" href=https://colab.research.google.com/notebooks/data_table.ipynb>data table notebook</a>'\n",
              "            + ' to learn more about interactive tables.';\n",
              "          element.innerHTML = '';\n",
              "          dataTable['output_type'] = 'display_data';\n",
              "          await google.colab.output.renderOutput(dataTable, element);\n",
              "          const docLink = document.createElement('div');\n",
              "          docLink.innerHTML = docLinkHtml;\n",
              "          element.appendChild(docLink);\n",
              "        }\n",
              "      </script>\n",
              "    </div>\n",
              "  </div>\n",
              "  "
            ]
          },
          "metadata": {},
          "execution_count": 240
        }
      ]
    },
    {
      "cell_type": "markdown",
      "source": [
        "**Looking at dataset again**"
      ],
      "metadata": {
        "id": "IOohyHbi3deY"
      }
    },
    {
      "cell_type": "code",
      "source": [
        "df.info()"
      ],
      "metadata": {
        "colab": {
          "base_uri": "https://localhost:8080/",
          "height": 0
        },
        "id": "_0yDxbQL3d56",
        "outputId": "03b0a262-8cf6-4a7f-cc7b-01ecb637a7a5"
      },
      "execution_count": 241,
      "outputs": [
        {
          "output_type": "stream",
          "name": "stdout",
          "text": [
            "<class 'pandas.core.frame.DataFrame'>\n",
            "Int64Index: 51042 entries, 0 to 51716\n",
            "Data columns (total 11 columns):\n",
            " #   Column           Non-Null Count  Dtype  \n",
            "---  ------           --------------  -----  \n",
            " 0   name             51042 non-null  object \n",
            " 1   online_order     51042 non-null  object \n",
            " 2   book_table       51042 non-null  object \n",
            " 3   rate             51042 non-null  float64\n",
            " 4   votes            51042 non-null  int64  \n",
            " 5   location         51042 non-null  object \n",
            " 6   rest_type        51042 non-null  object \n",
            " 7   cuisines         51042 non-null  object \n",
            " 8   Cost2plates      51042 non-null  object \n",
            " 9   Type             51042 non-null  object \n",
            " 10  listed_in(city)  51042 non-null  object \n",
            "dtypes: float64(1), int64(1), object(9)\n",
            "memory usage: 4.7+ MB\n"
          ]
        }
      ]
    },
    {
      "cell_type": "markdown",
      "source": [
        "**As we can see, there are two columns that deals with locations informations :-**\n",
        "1. location\n",
        "2. listed_in(city)\n",
        "\n",
        "**So removing one of these will be favourable, in order to find which one of these should be removed. We need to find number of uniques values in these columns.**"
      ],
      "metadata": {
        "id": "lU_5mwZp4vCQ"
      }
    },
    {
      "cell_type": "code",
      "source": [
        "#Uniques values in location column\n",
        "df['location'].unique()"
      ],
      "metadata": {
        "colab": {
          "base_uri": "https://localhost:8080/",
          "height": 0
        },
        "id": "rWY5mr9f5p6J",
        "outputId": "2dd6ea6a-9b6d-4d0c-b6fd-d829931f07f0"
      },
      "execution_count": 242,
      "outputs": [
        {
          "output_type": "execute_result",
          "data": {
            "text/plain": [
              "array(['Banashankari', 'Basavanagudi', 'Mysore Road', 'Jayanagar',\n",
              "       'Kumaraswamy Layout', 'Rajarajeshwari Nagar', 'Vijay Nagar',\n",
              "       'Uttarahalli', 'JP Nagar', 'South Bangalore', 'City Market',\n",
              "       'Nagarbhavi', 'Bannerghatta Road', 'BTM', 'Kanakapura Road',\n",
              "       'Bommanahalli', 'CV Raman Nagar', 'Electronic City', 'HSR',\n",
              "       'Marathahalli', 'Wilson Garden', 'Shanti Nagar',\n",
              "       'Koramangala 5th Block', 'Koramangala 8th Block', 'Richmond Road',\n",
              "       'Koramangala 7th Block', 'Jalahalli', 'Koramangala 4th Block',\n",
              "       'Bellandur', 'Sarjapur Road', 'Whitefield', 'East Bangalore',\n",
              "       'Old Airport Road', 'Indiranagar', 'Koramangala 1st Block',\n",
              "       'Frazer Town', 'RT Nagar', 'MG Road', 'Brigade Road',\n",
              "       'Lavelle Road', 'Church Street', 'Ulsoor', 'Residency Road',\n",
              "       'Shivajinagar', 'Infantry Road', 'St. Marks Road',\n",
              "       'Cunningham Road', 'Race Course Road', 'Commercial Street',\n",
              "       'Vasanth Nagar', 'HBR Layout', 'Domlur', 'Ejipura',\n",
              "       'Jeevan Bhima Nagar', 'Old Madras Road', 'Malleshwaram',\n",
              "       'Seshadripuram', 'Kammanahalli', 'Koramangala 6th Block',\n",
              "       'Majestic', 'Langford Town', 'Central Bangalore', 'Sanjay Nagar',\n",
              "       'Brookefield', 'ITPL Main Road, Whitefield',\n",
              "       'Varthur Main Road, Whitefield', 'KR Puram',\n",
              "       'Koramangala 2nd Block', 'Koramangala 3rd Block', 'Koramangala',\n",
              "       'Hosur Road', 'Rajajinagar', 'Banaswadi', 'North Bangalore',\n",
              "       'Nagawara', 'Hennur', 'Kalyan Nagar', 'New BEL Road', 'Jakkur',\n",
              "       'Rammurthy Nagar', 'Thippasandra', 'Kaggadasapura', 'Hebbal',\n",
              "       'Kengeri', 'Sankey Road', 'Sadashiv Nagar', 'Basaveshwara Nagar',\n",
              "       'Yeshwantpur', 'West Bangalore', 'Magadi Road', 'Yelahanka',\n",
              "       'Sahakara Nagar', 'Peenya'], dtype=object)"
            ]
          },
          "metadata": {},
          "execution_count": 242
        }
      ]
    },
    {
      "cell_type": "code",
      "source": [
        "##Uniques values in listed_in(city) column\n",
        "df['listed_in(city)'].unique()"
      ],
      "metadata": {
        "colab": {
          "base_uri": "https://localhost:8080/",
          "height": 0
        },
        "id": "javT8dl06K6o",
        "outputId": "ac27fc91-24ba-470c-9d7e-08dca34e3e56"
      },
      "execution_count": 243,
      "outputs": [
        {
          "output_type": "execute_result",
          "data": {
            "text/plain": [
              "array(['Banashankari', 'Bannerghatta Road', 'Basavanagudi', 'Bellandur',\n",
              "       'Brigade Road', 'Brookefield', 'BTM', 'Church Street',\n",
              "       'Electronic City', 'Frazer Town', 'HSR', 'Indiranagar',\n",
              "       'Jayanagar', 'JP Nagar', 'Kalyan Nagar', 'Kammanahalli',\n",
              "       'Koramangala 4th Block', 'Koramangala 5th Block',\n",
              "       'Koramangala 6th Block', 'Koramangala 7th Block', 'Lavelle Road',\n",
              "       'Malleshwaram', 'Marathahalli', 'MG Road', 'New BEL Road',\n",
              "       'Old Airport Road', 'Rajajinagar', 'Residency Road',\n",
              "       'Sarjapur Road', 'Whitefield'], dtype=object)"
            ]
          },
          "metadata": {},
          "execution_count": 243
        }
      ]
    },
    {
      "cell_type": "markdown",
      "source": [
        "**As it is easily evident that number of unique values in location column is greater than listed_in(city) column therefore, removing listed_in(city) column is more suitable.**"
      ],
      "metadata": {
        "id": "19Qtuy9C6vWx"
      }
    },
    {
      "cell_type": "code",
      "source": [
        "df = df.drop(['listed_in(city)'], axis = 1)"
      ],
      "metadata": {
        "id": "vLjggOKB7Dn7"
      },
      "execution_count": 244,
      "outputs": []
    },
    {
      "cell_type": "markdown",
      "source": [
        "**Now, Cleaning cost2plates column by removing ',' from the data values.**"
      ],
      "metadata": {
        "id": "rcCSEqA68tN-"
      }
    },
    {
      "cell_type": "code",
      "source": [
        "def handlecomma(value):\n",
        "    value = str(value)\n",
        "    if ',' in value:\n",
        "        value = value.replace(',', '')\n",
        "        return float(value)\n",
        "    else:\n",
        "        return float(value)\n",
        "    \n",
        "df['Cost2plates'] = df['Cost2plates'].apply(handlecomma)\n",
        "#Now listing uniques values of cost2plates column\n",
        "df['Cost2plates'].unique()"
      ],
      "metadata": {
        "colab": {
          "base_uri": "https://localhost:8080/",
          "height": 0
        },
        "id": "ByOmQN1p9FWS",
        "outputId": "59bba8ac-ee16-4c4f-e8f9-ff7365ad8833"
      },
      "execution_count": 245,
      "outputs": [
        {
          "output_type": "execute_result",
          "data": {
            "text/plain": [
              "array([ 800.,  300.,  600.,  700.,  550.,  500.,  450.,  650.,  400.,\n",
              "        900.,  200.,  750.,  150.,  850.,  100., 1200.,  350.,  250.,\n",
              "        950., 1000., 1500., 1300.,  199.,   80., 1100.,  160., 1600.,\n",
              "        230.,  130.,   50.,  190., 1700., 1400.,  180., 1350., 2200.,\n",
              "       2000., 1800., 1900.,  330., 2500., 2100., 3000., 2800., 3400.,\n",
              "         40., 1250., 3500., 4000., 2400., 2600.,  120., 1450.,  469.,\n",
              "         70., 3200.,   60.,  560.,  240.,  360., 6000., 1050., 2300.,\n",
              "       4100., 5000., 3700., 1650., 2700., 4500.,  140.])"
            ]
          },
          "metadata": {},
          "execution_count": 245
        }
      ]
    },
    {
      "cell_type": "markdown",
      "source": [
        "**Now, Cleaning rest_type column.**\n",
        "1. Listing uniques values.\n",
        "2. Now looking at data output.\n",
        "3. rest_type contains information about the resturants, therefore in order to clean this datasets more, it will be more favourable to cluster the resturants having very less counts. \n"
      ],
      "metadata": {
        "id": "bBVDWYku9zOZ"
      }
    },
    {
      "cell_type": "code",
      "source": [
        "rest_types = df['rest_type'].value_counts(ascending  = False)\n",
        "rest_types"
      ],
      "metadata": {
        "colab": {
          "base_uri": "https://localhost:8080/",
          "height": 0
        },
        "id": "DgYW3SQK_Nni",
        "outputId": "a9291015-5556-4138-9142-1dd18f67fb22"
      },
      "execution_count": 246,
      "outputs": [
        {
          "output_type": "execute_result",
          "data": {
            "text/plain": [
              "Quick Bites                   19010\n",
              "Casual Dining                 10253\n",
              "Cafe                           3682\n",
              "Delivery                       2574\n",
              "Dessert Parlor                 2242\n",
              "                              ...  \n",
              "Dessert Parlor, Kiosk             2\n",
              "Food Court, Beverage Shop         2\n",
              "Dessert Parlor, Food Court        2\n",
              "Quick Bites, Kiosk                1\n",
              "Sweet Shop, Dessert Parlor        1\n",
              "Name: rest_type, Length: 93, dtype: int64"
            ]
          },
          "metadata": {},
          "execution_count": 246
        }
      ]
    },
    {
      "cell_type": "markdown",
      "source": [
        "**Clustering resturants having counts less than 900 into others category.**"
      ],
      "metadata": {
        "id": "GPzaskhM_afn"
      }
    },
    {
      "cell_type": "code",
      "source": [
        "rest_types_lessthan900 = rest_types[rest_types<900]\n",
        "rest_types_lessthan900"
      ],
      "metadata": {
        "colab": {
          "base_uri": "https://localhost:8080/",
          "height": 0
        },
        "id": "90q265qc_jxt",
        "outputId": "f9652426-0f21-4040-f195-367c9d51e624"
      },
      "execution_count": 247,
      "outputs": [
        {
          "output_type": "execute_result",
          "data": {
            "text/plain": [
              "Beverage Shop                 863\n",
              "Bar                           686\n",
              "Food Court                    616\n",
              "Sweet Shop                    468\n",
              "Bar, Casual Dining            411\n",
              "                             ... \n",
              "Dessert Parlor, Kiosk           2\n",
              "Food Court, Beverage Shop       2\n",
              "Dessert Parlor, Food Court      2\n",
              "Quick Bites, Kiosk              1\n",
              "Sweet Shop, Dessert Parlor      1\n",
              "Name: rest_type, Length: 85, dtype: int64"
            ]
          },
          "metadata": {},
          "execution_count": 247
        }
      ]
    },
    {
      "cell_type": "markdown",
      "source": [
        "**Putting resturants with counts less than 900 represented by rest_types_lessthan100 into others category using a function**"
      ],
      "metadata": {
        "id": "Zf3xhPRuAx1K"
      }
    },
    {
      "cell_type": "code",
      "source": [
        "def handle_rest_type(value):\n",
        "    if(value in rest_types_lessthan900):\n",
        "        return 'others'\n",
        "    else:\n",
        "        return value\n",
        "        \n",
        "df['rest_type'] = df['rest_type'].apply(handle_rest_type)\n",
        "df['rest_type'].value_counts()"
      ],
      "metadata": {
        "colab": {
          "base_uri": "https://localhost:8080/",
          "height": 0
        },
        "id": "3IM0W--vBfzM",
        "outputId": "0dfee714-fa31-4255-8f39-0eb5a9e13113"
      },
      "execution_count": 248,
      "outputs": [
        {
          "output_type": "execute_result",
          "data": {
            "text/plain": [
              "Quick Bites           19010\n",
              "Casual Dining         10253\n",
              "others                 9003\n",
              "Cafe                   3682\n",
              "Delivery               2574\n",
              "Dessert Parlor         2242\n",
              "Takeaway, Delivery     2008\n",
              "Bakery                 1140\n",
              "Casual Dining, Bar     1130\n",
              "Name: rest_type, dtype: int64"
            ]
          },
          "metadata": {},
          "execution_count": 248
        }
      ]
    },
    {
      "cell_type": "markdown",
      "source": [
        "**Similarly cleaning location column**\n",
        "\n",
        "Listing locations with count less than 250 into others. "
      ],
      "metadata": {
        "id": "cJe7Iu23COJn"
      }
    },
    {
      "cell_type": "code",
      "source": [
        "#displaying locations less than 250\n",
        "location = df['location'].value_counts(ascending  = False)\n",
        "location_lessthan250 = location[location<250]\n",
        "location_lessthan250"
      ],
      "metadata": {
        "colab": {
          "base_uri": "https://localhost:8080/",
          "height": 0
        },
        "id": "lmBNyWHrCu-S",
        "outputId": "1fee3a3d-9a81-4693-8aa4-198737a487a1"
      },
      "execution_count": 249,
      "outputs": [
        {
          "output_type": "execute_result",
          "data": {
            "text/plain": [
              "Wilson Garden                    246\n",
              "Bommanahalli                     236\n",
              "Koramangala 3rd Block            215\n",
              "Thippasandra                     191\n",
              "Kumaraswamy Layout               191\n",
              "Nagawara                         187\n",
              "Basaveshwara Nagar               187\n",
              "Seshadripuram                    165\n",
              "Hennur                           159\n",
              "Majestic                         155\n",
              "HBR Layout                       153\n",
              "Infantry Road                    150\n",
              "Race Course Road                 139\n",
              "City Market                      122\n",
              "Yeshwantpur                      119\n",
              "ITPL Main Road, Whitefield       113\n",
              "Varthur Main Road, Whitefield    109\n",
              "South Bangalore                  107\n",
              "Koramangala 2nd Block            102\n",
              "Kaggadasapura                    101\n",
              "Hosur Road                        98\n",
              "CV Raman Nagar                    89\n",
              "Vijay Nagar                       78\n",
              "RT Nagar                          78\n",
              "Sanjay Nagar                      76\n",
              "Sadashiv Nagar                    63\n",
              "Sahakara Nagar                    53\n",
              "Koramangala                       48\n",
              "East Bangalore                    43\n",
              "Jalahalli                         38\n",
              "Magadi Road                       34\n",
              "Rammurthy Nagar                   32\n",
              "Langford Town                     27\n",
              "Sankey Road                       27\n",
              "Old Madras Road                   22\n",
              "Mysore Road                       22\n",
              "Kanakapura Road                   19\n",
              "KR Puram                          18\n",
              "Uttarahalli                       17\n",
              "Hebbal                            14\n",
              "North Bangalore                   14\n",
              "Nagarbhavi                         9\n",
              "Kengeri                            8\n",
              "Central Bangalore                  8\n",
              "West Bangalore                     6\n",
              "Yelahanka                          5\n",
              "Jakkur                             3\n",
              "Rajarajeshwari Nagar               2\n",
              "Peenya                             1\n",
              "Name: location, dtype: int64"
            ]
          },
          "metadata": {},
          "execution_count": 249
        }
      ]
    },
    {
      "cell_type": "code",
      "source": [
        "#grouping all these locations by creating a new parameter others\n",
        "def handle_location(value):\n",
        "    if(value in location_lessthan250):\n",
        "        return 'others'\n",
        "    else:\n",
        "        return value\n",
        "        \n",
        "df['location'] = df['location'].apply(handle_location)\n",
        "df['location'].value_counts()"
      ],
      "metadata": {
        "colab": {
          "base_uri": "https://localhost:8080/",
          "height": 0
        },
        "id": "lsBvECSuC-1b",
        "outputId": "0f265f90-0e5b-4a5c-d3d6-91811b1f7dce"
      },
      "execution_count": 250,
      "outputs": [
        {
          "output_type": "execute_result",
          "data": {
            "text/plain": [
              "BTM                      5056\n",
              "others                   4099\n",
              "HSR                      2494\n",
              "Koramangala 5th Block    2479\n",
              "JP Nagar                 2218\n",
              "Whitefield               2105\n",
              "Indiranagar              2026\n",
              "Jayanagar                1916\n",
              "Marathahalli             1805\n",
              "Bannerghatta Road        1609\n",
              "Bellandur                1268\n",
              "Electronic City          1246\n",
              "Koramangala 1st Block    1236\n",
              "Brigade Road             1210\n",
              "Koramangala 7th Block    1174\n",
              "Koramangala 6th Block    1127\n",
              "Sarjapur Road            1047\n",
              "Koramangala 4th Block    1017\n",
              "Ulsoor                   1011\n",
              "Banashankari              902\n",
              "MG Road                   893\n",
              "Kalyan Nagar              841\n",
              "Richmond Road             803\n",
              "Malleshwaram              721\n",
              "Frazer Town               714\n",
              "Basavanagudi              684\n",
              "Residency Road            671\n",
              "Brookefield               656\n",
              "New BEL Road              644\n",
              "Banaswadi                 640\n",
              "Kammanahalli              639\n",
              "Rajajinagar               591\n",
              "Church Street             566\n",
              "Lavelle Road              518\n",
              "Shanti Nagar              508\n",
              "Shivajinagar              498\n",
              "Cunningham Road           490\n",
              "Domlur                    482\n",
              "Old Airport Road          437\n",
              "Ejipura                   433\n",
              "Commercial Street         370\n",
              "St. Marks Road            343\n",
              "Koramangala 8th Block     294\n",
              "Vasanth Nagar             293\n",
              "Jeevan Bhima Nagar        268\n",
              "Name: location, dtype: int64"
            ]
          },
          "metadata": {},
          "execution_count": 250
        }
      ]
    },
    {
      "cell_type": "markdown",
      "source": [
        "**Similarly, cleaning cuisines column**\n",
        "1. listing cuisines counts.\n",
        "2. creating a cuisines_lessthan100 to hold cuisines counts less than 100. \n",
        "3. with the help of a function, putting cuisines with counts less than 100 into others.\n",
        "4. listing cuisines column after all these operations \n"
      ],
      "metadata": {
        "id": "4canxSKYDW_n"
      }
    },
    {
      "cell_type": "code",
      "source": [
        "#1\n",
        "cuisines = df['cuisines'].value_counts(ascending  = False)\n",
        "cuisines"
      ],
      "metadata": {
        "colab": {
          "base_uri": "https://localhost:8080/",
          "height": 0
        },
        "id": "ulmH4ddoEwmc",
        "outputId": "c355d950-b554-4622-e782-e1417f1c4060"
      },
      "execution_count": 251,
      "outputs": [
        {
          "output_type": "execute_result",
          "data": {
            "text/plain": [
              "North Indian                                2852\n",
              "North Indian, Chinese                       2351\n",
              "South Indian                                1820\n",
              "Biryani                                      903\n",
              "Bakery, Desserts                             898\n",
              "                                            ... \n",
              "North Indian, Chinese, Oriya, Mithai           1\n",
              "Beverages, Burger                              1\n",
              "North Indian, Mughlai, Lucknowi                1\n",
              "Continental, Thai, North Indian, Chinese       1\n",
              "North Indian, Chinese, Arabian, Momos          1\n",
              "Name: cuisines, Length: 2704, dtype: int64"
            ]
          },
          "metadata": {},
          "execution_count": 251
        }
      ]
    },
    {
      "cell_type": "code",
      "source": [
        "#2\n",
        "cuisines_lessthan100 = cuisines[cuisines<100]\n",
        "cuisines_lessthan100"
      ],
      "metadata": {
        "colab": {
          "base_uri": "https://localhost:8080/",
          "height": 0
        },
        "id": "2ONHxTAdE6C_",
        "outputId": "773f643f-956d-4633-b602-bd3085e93fb9"
      },
      "execution_count": 252,
      "outputs": [
        {
          "output_type": "execute_result",
          "data": {
            "text/plain": [
              "North Indian, Continental, Chinese          97\n",
              "Juices                                      94\n",
              "Fast Food, North Indian                     93\n",
              "Bengali, North Indian                       93\n",
              "Beverages, Juices                           90\n",
              "                                            ..\n",
              "North Indian, Chinese, Oriya, Mithai         1\n",
              "Beverages, Burger                            1\n",
              "North Indian, Mughlai, Lucknowi              1\n",
              "Continental, Thai, North Indian, Chinese     1\n",
              "North Indian, Chinese, Arabian, Momos        1\n",
              "Name: cuisines, Length: 2635, dtype: int64"
            ]
          },
          "metadata": {},
          "execution_count": 252
        }
      ]
    },
    {
      "cell_type": "code",
      "source": [
        "#3\n",
        "def handle_cuisines(value):\n",
        "    if(value in cuisines_lessthan100):\n",
        "        return 'others'\n",
        "    else:\n",
        "        return value"
      ],
      "metadata": {
        "id": "FVGC2hRhFEDg"
      },
      "execution_count": 253,
      "outputs": []
    },
    {
      "cell_type": "code",
      "source": [
        "#4\n",
        "df['cuisines'] = df['cuisines'].apply(handle_cuisines)\n",
        "df['cuisines'].value_counts()"
      ],
      "metadata": {
        "colab": {
          "base_uri": "https://localhost:8080/",
          "height": 0
        },
        "id": "CPUslxuiFJB-",
        "outputId": "ad9a94b4-94c7-444d-8905-486cb2934e58"
      },
      "execution_count": 254,
      "outputs": [
        {
          "output_type": "execute_result",
          "data": {
            "text/plain": [
              "others                                 26159\n",
              "North Indian                            2852\n",
              "North Indian, Chinese                   2351\n",
              "South Indian                            1820\n",
              "Biryani                                  903\n",
              "                                       ...  \n",
              "South Indian, Chinese, North Indian      105\n",
              "North Indian, Mughlai, Chinese           104\n",
              "South Indian, Fast Food                  104\n",
              "Italian, Pizza                           102\n",
              "North Indian, Chinese, Seafood           102\n",
              "Name: cuisines, Length: 70, dtype: int64"
            ]
          },
          "metadata": {},
          "execution_count": 254
        }
      ]
    },
    {
      "cell_type": "markdown",
      "source": [
        "# **# Now we can view the cleaned data**\n",
        "\n",
        "# **Problem statement** \n",
        "**1. Preprocess, clean, and analyze the given dataset**\n",
        "\n",
        "Solution :-\n",
        "\n",
        "Below is the cleaned data, and analysis done "
      ],
      "metadata": {
        "id": "HyCNs3a0FSfY"
      }
    },
    {
      "cell_type": "code",
      "source": [
        "df.head()"
      ],
      "metadata": {
        "colab": {
          "base_uri": "https://localhost:8080/",
          "height": 206
        },
        "id": "eq563yeqFZHB",
        "outputId": "00f1e366-3a66-4d8b-c46c-b45725db8b21"
      },
      "execution_count": 255,
      "outputs": [
        {
          "output_type": "execute_result",
          "data": {
            "text/plain": [
              "                    name online_order book_table  rate  votes      location  \\\n",
              "0                  Jalsa          Yes        Yes   4.1    775  Banashankari   \n",
              "1         Spice Elephant          Yes         No   4.1    787  Banashankari   \n",
              "2        San Churro Cafe          Yes         No   3.8    918  Banashankari   \n",
              "3  Addhuri Udupi Bhojana           No         No   3.7     88  Banashankari   \n",
              "4          Grand Village           No         No   3.8    166  Basavanagudi   \n",
              "\n",
              "       rest_type                        cuisines  Cost2plates    Type  \n",
              "0  Casual Dining  North Indian, Mughlai, Chinese        800.0  Buffet  \n",
              "1  Casual Dining                          others        800.0  Buffet  \n",
              "2         others                          others        800.0  Buffet  \n",
              "3    Quick Bites      South Indian, North Indian        300.0  Buffet  \n",
              "4  Casual Dining                          others        600.0  Buffet  "
            ],
            "text/html": [
              "\n",
              "  <div id=\"df-2a36d2fd-ace8-4187-a207-4eb149898c0f\">\n",
              "    <div class=\"colab-df-container\">\n",
              "      <div>\n",
              "<style scoped>\n",
              "    .dataframe tbody tr th:only-of-type {\n",
              "        vertical-align: middle;\n",
              "    }\n",
              "\n",
              "    .dataframe tbody tr th {\n",
              "        vertical-align: top;\n",
              "    }\n",
              "\n",
              "    .dataframe thead th {\n",
              "        text-align: right;\n",
              "    }\n",
              "</style>\n",
              "<table border=\"1\" class=\"dataframe\">\n",
              "  <thead>\n",
              "    <tr style=\"text-align: right;\">\n",
              "      <th></th>\n",
              "      <th>name</th>\n",
              "      <th>online_order</th>\n",
              "      <th>book_table</th>\n",
              "      <th>rate</th>\n",
              "      <th>votes</th>\n",
              "      <th>location</th>\n",
              "      <th>rest_type</th>\n",
              "      <th>cuisines</th>\n",
              "      <th>Cost2plates</th>\n",
              "      <th>Type</th>\n",
              "    </tr>\n",
              "  </thead>\n",
              "  <tbody>\n",
              "    <tr>\n",
              "      <th>0</th>\n",
              "      <td>Jalsa</td>\n",
              "      <td>Yes</td>\n",
              "      <td>Yes</td>\n",
              "      <td>4.1</td>\n",
              "      <td>775</td>\n",
              "      <td>Banashankari</td>\n",
              "      <td>Casual Dining</td>\n",
              "      <td>North Indian, Mughlai, Chinese</td>\n",
              "      <td>800.0</td>\n",
              "      <td>Buffet</td>\n",
              "    </tr>\n",
              "    <tr>\n",
              "      <th>1</th>\n",
              "      <td>Spice Elephant</td>\n",
              "      <td>Yes</td>\n",
              "      <td>No</td>\n",
              "      <td>4.1</td>\n",
              "      <td>787</td>\n",
              "      <td>Banashankari</td>\n",
              "      <td>Casual Dining</td>\n",
              "      <td>others</td>\n",
              "      <td>800.0</td>\n",
              "      <td>Buffet</td>\n",
              "    </tr>\n",
              "    <tr>\n",
              "      <th>2</th>\n",
              "      <td>San Churro Cafe</td>\n",
              "      <td>Yes</td>\n",
              "      <td>No</td>\n",
              "      <td>3.8</td>\n",
              "      <td>918</td>\n",
              "      <td>Banashankari</td>\n",
              "      <td>others</td>\n",
              "      <td>others</td>\n",
              "      <td>800.0</td>\n",
              "      <td>Buffet</td>\n",
              "    </tr>\n",
              "    <tr>\n",
              "      <th>3</th>\n",
              "      <td>Addhuri Udupi Bhojana</td>\n",
              "      <td>No</td>\n",
              "      <td>No</td>\n",
              "      <td>3.7</td>\n",
              "      <td>88</td>\n",
              "      <td>Banashankari</td>\n",
              "      <td>Quick Bites</td>\n",
              "      <td>South Indian, North Indian</td>\n",
              "      <td>300.0</td>\n",
              "      <td>Buffet</td>\n",
              "    </tr>\n",
              "    <tr>\n",
              "      <th>4</th>\n",
              "      <td>Grand Village</td>\n",
              "      <td>No</td>\n",
              "      <td>No</td>\n",
              "      <td>3.8</td>\n",
              "      <td>166</td>\n",
              "      <td>Basavanagudi</td>\n",
              "      <td>Casual Dining</td>\n",
              "      <td>others</td>\n",
              "      <td>600.0</td>\n",
              "      <td>Buffet</td>\n",
              "    </tr>\n",
              "  </tbody>\n",
              "</table>\n",
              "</div>\n",
              "      <button class=\"colab-df-convert\" onclick=\"convertToInteractive('df-2a36d2fd-ace8-4187-a207-4eb149898c0f')\"\n",
              "              title=\"Convert this dataframe to an interactive table.\"\n",
              "              style=\"display:none;\">\n",
              "        \n",
              "  <svg xmlns=\"http://www.w3.org/2000/svg\" height=\"24px\"viewBox=\"0 0 24 24\"\n",
              "       width=\"24px\">\n",
              "    <path d=\"M0 0h24v24H0V0z\" fill=\"none\"/>\n",
              "    <path d=\"M18.56 5.44l.94 2.06.94-2.06 2.06-.94-2.06-.94-.94-2.06-.94 2.06-2.06.94zm-11 1L8.5 8.5l.94-2.06 2.06-.94-2.06-.94L8.5 2.5l-.94 2.06-2.06.94zm10 10l.94 2.06.94-2.06 2.06-.94-2.06-.94-.94-2.06-.94 2.06-2.06.94z\"/><path d=\"M17.41 7.96l-1.37-1.37c-.4-.4-.92-.59-1.43-.59-.52 0-1.04.2-1.43.59L10.3 9.45l-7.72 7.72c-.78.78-.78 2.05 0 2.83L4 21.41c.39.39.9.59 1.41.59.51 0 1.02-.2 1.41-.59l7.78-7.78 2.81-2.81c.8-.78.8-2.07 0-2.86zM5.41 20L4 18.59l7.72-7.72 1.47 1.35L5.41 20z\"/>\n",
              "  </svg>\n",
              "      </button>\n",
              "      \n",
              "  <style>\n",
              "    .colab-df-container {\n",
              "      display:flex;\n",
              "      flex-wrap:wrap;\n",
              "      gap: 12px;\n",
              "    }\n",
              "\n",
              "    .colab-df-convert {\n",
              "      background-color: #E8F0FE;\n",
              "      border: none;\n",
              "      border-radius: 50%;\n",
              "      cursor: pointer;\n",
              "      display: none;\n",
              "      fill: #1967D2;\n",
              "      height: 32px;\n",
              "      padding: 0 0 0 0;\n",
              "      width: 32px;\n",
              "    }\n",
              "\n",
              "    .colab-df-convert:hover {\n",
              "      background-color: #E2EBFA;\n",
              "      box-shadow: 0px 1px 2px rgba(60, 64, 67, 0.3), 0px 1px 3px 1px rgba(60, 64, 67, 0.15);\n",
              "      fill: #174EA6;\n",
              "    }\n",
              "\n",
              "    [theme=dark] .colab-df-convert {\n",
              "      background-color: #3B4455;\n",
              "      fill: #D2E3FC;\n",
              "    }\n",
              "\n",
              "    [theme=dark] .colab-df-convert:hover {\n",
              "      background-color: #434B5C;\n",
              "      box-shadow: 0px 1px 3px 1px rgba(0, 0, 0, 0.15);\n",
              "      filter: drop-shadow(0px 1px 2px rgba(0, 0, 0, 0.3));\n",
              "      fill: #FFFFFF;\n",
              "    }\n",
              "  </style>\n",
              "\n",
              "      <script>\n",
              "        const buttonEl =\n",
              "          document.querySelector('#df-2a36d2fd-ace8-4187-a207-4eb149898c0f button.colab-df-convert');\n",
              "        buttonEl.style.display =\n",
              "          google.colab.kernel.accessAllowed ? 'block' : 'none';\n",
              "\n",
              "        async function convertToInteractive(key) {\n",
              "          const element = document.querySelector('#df-2a36d2fd-ace8-4187-a207-4eb149898c0f');\n",
              "          const dataTable =\n",
              "            await google.colab.kernel.invokeFunction('convertToInteractive',\n",
              "                                                     [key], {});\n",
              "          if (!dataTable) return;\n",
              "\n",
              "          const docLinkHtml = 'Like what you see? Visit the ' +\n",
              "            '<a target=\"_blank\" href=https://colab.research.google.com/notebooks/data_table.ipynb>data table notebook</a>'\n",
              "            + ' to learn more about interactive tables.';\n",
              "          element.innerHTML = '';\n",
              "          dataTable['output_type'] = 'display_data';\n",
              "          await google.colab.output.renderOutput(dataTable, element);\n",
              "          const docLink = document.createElement('div');\n",
              "          docLink.innerHTML = docLinkHtml;\n",
              "          element.appendChild(docLink);\n",
              "        }\n",
              "      </script>\n",
              "    </div>\n",
              "  </div>\n",
              "  "
            ]
          },
          "metadata": {},
          "execution_count": 255
        }
      ]
    },
    {
      "cell_type": "markdown",
      "source": [
        "\n",
        "\n",
        "---\n",
        "\n"
      ],
      "metadata": {
        "id": "f60gDSOhe0c3"
      }
    },
    {
      "cell_type": "markdown",
      "source": [
        "# **# Visualizing Book Table For Solving Problem Statements**"
      ],
      "metadata": {
        "id": "C_9kNsT7Gwec"
      }
    },
    {
      "cell_type": "markdown",
      "source": [
        "**Displaying Top 20 restaurants**  "
      ],
      "metadata": {
        "id": "aCQUZaFJG1iN"
      }
    },
    {
      "cell_type": "code",
      "source": [
        "#top 20 restaurant \n",
        "df['name'].value_counts(ascending=False)[:20]"
      ],
      "metadata": {
        "colab": {
          "base_uri": "https://localhost:8080/",
          "height": 0
        },
        "id": "sOQt1uVzHp6T",
        "outputId": "1f7014c8-b1da-4c92-9288-45b7f77ffeec"
      },
      "execution_count": 256,
      "outputs": [
        {
          "output_type": "execute_result",
          "data": {
            "text/plain": [
              "Cafe Coffee Day      96\n",
              "Onesta               85\n",
              "Just Bake            73\n",
              "Empire Restaurant    71\n",
              "Five Star Chicken    70\n",
              "Kanti Sweets         68\n",
              "Petoo                66\n",
              "Polar Bear           65\n",
              "Baskin Robbins       64\n",
              "Pizza Hut            62\n",
              "Domino's Pizza       60\n",
              "Sweet Truth          60\n",
              "KFC                  60\n",
              "Beijing Bites        60\n",
              "Subway               60\n",
              "McDonald's           59\n",
              "Smoor                59\n",
              "Faasos               57\n",
              "Chef Baker's         56\n",
              "Lassi Shop           56\n",
              "Name: name, dtype: int64"
            ]
          },
          "metadata": {},
          "execution_count": 256
        }
      ]
    },
    {
      "cell_type": "markdown",
      "source": [
        "**Using seaborn's the countplot() function to create a bar plot that shows the frequency of occurrences of each category in a categorical variable ('name')**\n",
        "\n",
        "(**Visualization 1**)\n",
        "\n"
      ],
      "metadata": {
        "id": "_0F3zT1RIAqc"
      }
    },
    {
      "cell_type": "code",
      "source": [
        "top_20_restaurants = df['name'].value_counts(ascending=False)[:20]\n",
        "\n",
        "#creates a figure with the specified size (18 inches wide, 8 inches tall), \n",
        "plt.figure(figsize=(18,8)) \n",
        "sns.countplot(y='name', data=df, order=top_20_restaurants.index,palette='Set2')\n",
        "plt.title(\"Top 20 restaurants\")"
      ],
      "metadata": {
        "colab": {
          "base_uri": "https://localhost:8080/",
          "height": 530
        },
        "id": "XY3llX9HG9Kr",
        "outputId": "71e8abd3-860b-4076-8a76-a009c99a7c28"
      },
      "execution_count": 257,
      "outputs": [
        {
          "output_type": "execute_result",
          "data": {
            "text/plain": [
              "Text(0.5, 1.0, 'Top 20 restaurants')"
            ]
          },
          "metadata": {},
          "execution_count": 257
        },
        {
          "output_type": "display_data",
          "data": {
            "text/plain": [
              "<Figure size 1296x576 with 1 Axes>"
            ],
            "image/png": "[encoded data removed]"
          },
          "metadata": {
            "needs_background": "light"
          }
        }
      ]
    },
    {
      "cell_type": "markdown",
      "source": [
        "**Data Visualization Insights**\n",
        "\n",
        "1. Based on the data, it appears that Cafe Coffe Day and Onesta have a high number of ordered restaurants in Banglore City. \n",
        "\n",
        "2. Additionally, popular food chains like Just Bake, Emprie Resturant, Five Star Chicken, Pizza Hut, Domino's Pizza, KFC, can also be found in the area."
      ],
      "metadata": {
        "id": "RsBiP-dr9pzt"
      }
    },
    {
      "cell_type": "markdown",
      "source": [
        "\n",
        "\n",
        "---\n",
        "\n"
      ],
      "metadata": {
        "id": "0nOkf7_Aex2_"
      }
    },
    {
      "cell_type": "markdown",
      "source": [
        "# **Ploting Number of Resturants at Various Locations of Banglore**\n",
        "\n",
        "(**Visualization 2**)"
      ],
      "metadata": {
        "id": "aTmQxt1zGB2O"
      }
    },
    {
      "cell_type": "code",
      "source": [
        "plt.figure(figsize = (16,10))\n",
        "ax = sns.countplot(df['location'])\n",
        "plt.xticks(rotation=90)"
      ],
      "metadata": {
        "colab": {
          "base_uri": "https://localhost:8080/",
          "height": 835
        },
        "id": "-chmM5agGBIh",
        "outputId": "9cd3c648-293e-4de6-fe3e-f1908a33373c"
      },
      "execution_count": 258,
      "outputs": [
        {
          "output_type": "stream",
          "name": "stderr",
          "text": [
            "/usr/local/lib/python3.8/dist-packages/seaborn/_decorators.py:36: FutureWarning: Pass the following variable as a keyword arg: x. From version 0.12, the only valid positional argument will be `data`, and passing other arguments without an explicit keyword will result in an error or misinterpretation.\n",
            "  warnings.warn(\n"
          ]
        },
        {
          "output_type": "execute_result",
          "data": {
            "text/plain": [
              "(array([ 0,  1,  2,  3,  4,  5,  6,  7,  8,  9, 10, 11, 12, 13, 14, 15, 16,\n",
              "        17, 18, 19, 20, 21, 22, 23, 24, 25, 26, 27, 28, 29, 30, 31, 32, 33,\n",
              "        34, 35, 36, 37, 38, 39, 40, 41, 42, 43, 44]),\n",
              " <a list of 45 Text major ticklabel objects>)"
            ]
          },
          "metadata": {},
          "execution_count": 258
        },
        {
          "output_type": "display_data",
          "data": {
            "text/plain": [
              "<Figure size 1152x720 with 1 Axes>"
            ],
            "image/png": "[encoded data removed]"
          },
          "metadata": {
            "needs_background": "light"
          }
        }
      ]
    },
    {
      "cell_type": "markdown",
      "source": [
        "**Data Visualization Insights**\n",
        "\n",
        "1. From the above plot of data, it can be observed that locations such as BTM, HSR, Koramangala, etc. have a high density of restaurants, leading to high competition from a customer acquisition perspective.\n",
        "\n",
        "2. Therefore, it is highly advisable to avoid these areas when launching new restaurants.\n",
        "\n",
        "3. Locations like, Commerical Street, Domlur are good options for launching new resturants. "
      ],
      "metadata": {
        "id": "Qjj8L1tAGtNn"
      }
    },
    {
      "cell_type": "markdown",
      "source": [
        "**Displaying Top 20 restaurant types (Visualization 3)**"
      ],
      "metadata": {
        "id": "7YuX0-GAI2fv"
      }
    },
    {
      "cell_type": "code",
      "source": [
        "plt.figure(figsize=(18,8))\n",
        "rest = df['rest_type'].value_counts()[:20]\n",
        "sns.barplot(rest,rest.index)\n",
        "plt.title(\"Top 20 restaurant types\")\n",
        "plt.xlabel(\"count\")\n",
        "plt.show()\n"
      ],
      "metadata": {
        "colab": {
          "base_uri": "https://localhost:8080/",
          "height": 568
        },
        "id": "Pufigzd9I6DX",
        "outputId": "ec66d70b-8e25-4580-fecf-a9e13ee09dbe"
      },
      "execution_count": 259,
      "outputs": [
        {
          "output_type": "stream",
          "name": "stderr",
          "text": [
            "/usr/local/lib/python3.8/dist-packages/seaborn/_decorators.py:36: FutureWarning: Pass the following variables as keyword args: x, y. From version 0.12, the only valid positional argument will be `data`, and passing other arguments without an explicit keyword will result in an error or misinterpretation.\n",
            "  warnings.warn(\n"
          ]
        },
        {
          "output_type": "display_data",
          "data": {
            "text/plain": [
              "<Figure size 1296x576 with 1 Axes>"
            ],
            "image/png": "[encoded data removed]"
          },
          "metadata": {
            "needs_background": "light"
          }
        }
      ]
    },
    {
      "cell_type": "markdown",
      "source": [
        "**Data Visualization Insights**\n",
        "\n",
        "It is clear that restaurant types such as Quick Bites, Casual Dining, and Cafe are among the most prevalent in the city of Bangalore. **Therefore, it would be highly advisable to open a restaurant in these genres to increase the chances of success.**\""
      ],
      "metadata": {
        "id": "58ofQN3BIW2L"
      }
    },
    {
      "cell_type": "markdown",
      "source": [
        "\n",
        "\n",
        "---\n",
        "\n"
      ],
      "metadata": {
        "id": "egQWiMTVeiib"
      }
    },
    {
      "cell_type": "markdown",
      "source": [
        "# Displaying \n",
        "1.  **Top 5 Most Voted Resturants** \n",
        "2.  **Top 5 Most Expensive Resturants** **(Visualization 4)**\n"
      ],
      "metadata": {
        "id": "LwR_hfsivkKl"
      }
    },
    {
      "cell_type": "code",
      "source": [
        "#1 --Top 5 Most Voted Resturants\n",
        "df_01 = df.copy()\n",
        "top_5_voted = df_01.groupby('name')['votes'].mean().sort_values(ascending=False).head(5)\n",
        "top_5_voted.plot(kind='bar', y='votes')\n",
        "plt.xlabel('Restaurant Name')\n",
        "plt.ylabel('Votes')\n",
        "plt.title('Top 5 Voted Restaurants')\n",
        "plt.show()\n",
        "\n",
        "\n"
      ],
      "metadata": {
        "colab": {
          "base_uri": "https://localhost:8080/",
          "height": 440
        },
        "id": "ss5-J0NSvi6u",
        "outputId": "ec08eb86-2ff5-4461-fafe-f020b33d7226"
      },
      "execution_count": 260,
      "outputs": [
        {
          "output_type": "display_data",
          "data": {
            "text/plain": [
              "<Figure size 432x288 with 1 Axes>"
            ],
            "image/png": "[encoded data removed]"
          },
          "metadata": {
            "needs_background": "light"
          }
        }
      ]
    },
    {
      "cell_type": "code",
      "source": [
        "#2 --Top 5 Most Expensive Resturants\n",
        "df_02 = df.copy()\n",
        "top_5_voted = df_02.groupby('name')['Cost2plates'].mean().sort_values(ascending=False).head(5)\n",
        "top_5_voted.plot(kind='bar', y='votes', color= 'c')\n",
        "plt.xlabel('Restaurant Name')\n",
        "plt.ylabel('Approx price for 2')\n",
        "plt.title('Top 5 Expensive Restaurants')\n",
        "plt.show()"
      ],
      "metadata": {
        "colab": {
          "base_uri": "https://localhost:8080/",
          "height": 477
        },
        "id": "FV5olEHr6Ps_",
        "outputId": "c595bdfe-6207-4d1e-855f-497108e90c86"
      },
      "execution_count": 261,
      "outputs": [
        {
          "output_type": "display_data",
          "data": {
            "text/plain": [
              "<Figure size 432x288 with 1 Axes>"
            ],
            "image/png": "[encoded data removed]"
          },
          "metadata": {
            "needs_background": "light"
          }
        }
      ]
    },
    {
      "cell_type": "markdown",
      "source": [
        "\n",
        "\n",
        "---\n",
        "\n"
      ],
      "metadata": {
        "id": "sKKHZLpNedha"
      }
    },
    {
      "cell_type": "markdown",
      "source": [
        "# **Visualizing Online Order (Yes vs No)** **(Visualization 5)**"
      ],
      "metadata": {
        "id": "DCPTIjaQA2ex"
      }
    },
    {
      "cell_type": "code",
      "source": [
        "df_03 = df.copy()\n",
        "# data for the chart\n",
        "labels = ['Online Order', 'No Online Order']\n",
        "sizes = [df_03['online_order'].value_counts()['Yes'], df_03['online_order'].value_counts()['No']]\n",
        "\n",
        "# creating the chart\n",
        "fig1, ax1 = plt.subplots()\n",
        "ax1.pie(sizes, labels=labels, autopct='%1.1f%%',\n",
        "        shadow=True, startangle=90)\n",
        "ax1.axis('equal')  # Equal aspect ratio ensures that pie is drawn as a circle.\n",
        "\n",
        "plt.show()"
      ],
      "metadata": {
        "colab": {
          "base_uri": "https://localhost:8080/",
          "height": 248
        },
        "id": "uQEoZ3V3_Irk",
        "outputId": "cd953971-f418-413c-d8e5-e8651570fcfa"
      },
      "execution_count": 262,
      "outputs": [
        {
          "output_type": "display_data",
          "data": {
            "text/plain": [
              "<Figure size 432x288 with 1 Axes>"
            ],
            "image/png": "[encoded data removed]"
          },
          "metadata": {}
        }
      ]
    },
    {
      "cell_type": "markdown",
      "source": [
        "**Data Visualization Insights**\n",
        "\n",
        "Based on the data, it appears that, almost 60% of all the orders are made online rest 40% are offline orders."
      ],
      "metadata": {
        "id": "c8bnOrF-BLki"
      }
    },
    {
      "cell_type": "markdown",
      "source": [
        "\n",
        "\n",
        "---\n",
        "\n"
      ],
      "metadata": {
        "id": "IaKAQihLeaxv"
      }
    },
    {
      "cell_type": "markdown",
      "source": [
        "# **Visualizing Table Booking** **(Visualization 6)**"
      ],
      "metadata": {
        "id": "0l2yE3d6BsIf"
      }
    },
    {
      "cell_type": "code",
      "source": [
        "df_05 = df.copy()\n",
        "# data for the chart\n",
        "labels = ['Table Booking', 'No Table Booking']\n",
        "sizes = [df_05['book_table'].value_counts()['Yes'], df_05['book_table'].value_counts()['No']]\n",
        "\n",
        "# creating the chart\n",
        "fig1, ax1 = plt.subplots()\n",
        "ax1.pie(sizes, labels=labels, autopct='%1.1f%%',\n",
        "        shadow=True, startangle=90)\n",
        "ax1.axis('equal')  # Equal aspect ratio ensures that pie is drawn as a circle.\n",
        "\n",
        "plt.show()"
      ],
      "metadata": {
        "colab": {
          "base_uri": "https://localhost:8080/",
          "height": 248
        },
        "id": "vWc5owk2BrQm",
        "outputId": "91d57e33-d813-4b9d-c987-8718c91f5600"
      },
      "execution_count": 263,
      "outputs": [
        {
          "output_type": "display_data",
          "data": {
            "text/plain": [
              "<Figure size 432x288 with 1 Axes>"
            ],
            "image/png": "[encoded data removed]"
          },
          "metadata": {}
        }
      ]
    },
    {
      "cell_type": "markdown",
      "source": [
        "**Data Visualization Insights**\n",
        "\n",
        "Based on the data, it appears that, 12% resturants provide the facility of table booking, and rest 87% resturant doesnt allow tablel booking. \n",
        "\n",
        "Resons \n",
        "\n",
        "1. It is only avaible in upper class 5 start hotels.\n",
        "2. Lack of a dedicated reservation system or staff to manage reservations.\n",
        "3. A desire to maintain a more casual, walk-in atmosphere.\n",
        "4. Health and safety concerns, such as not wanting to have a full restaurant during a pandemic."
      ],
      "metadata": {
        "id": "aBtxMkJcCmHx"
      }
    },
    {
      "cell_type": "markdown",
      "source": [
        "\n",
        "\n",
        "---\n",
        "\n"
      ],
      "metadata": {
        "id": "Sc3aoycPeYg6"
      }
    },
    {
      "cell_type": "markdown",
      "source": [
        "# **Visualizing Online Order Facility, Location Wise** **(Visualization 7)**"
      ],
      "metadata": {
        "id": "7r-KNzrLTHkc"
      }
    },
    {
      "cell_type": "code",
      "source": [
        "df_06 = df.groupby(['location','online_order'])['name'].count()\n",
        "df_06.to_csv('location_online.csv')\n",
        "df_06 = pd.read_csv('location_online.csv')\n",
        "df_06 = pd.pivot_table(df_06, values=None, index=['location'], columns=['online_order'], fill_value=0, aggfunc=np.sum)\n",
        "df_06.plot(kind = 'bar', figsize = (15,8))"
      ],
      "metadata": {
        "colab": {
          "base_uri": "https://localhost:8080/",
          "height": 620
        },
        "id": "0Pq6UC1DJ9yD",
        "outputId": "705a6d2e-9fb1-42aa-be73-96ff93955f08"
      },
      "execution_count": 264,
      "outputs": [
        {
          "output_type": "execute_result",
          "data": {
            "text/plain": [
              "<matplotlib.axes._subplots.AxesSubplot at 0x7fe4c1882f10>"
            ]
          },
          "metadata": {},
          "execution_count": 264
        },
        {
          "output_type": "display_data",
          "data": {
            "text/plain": [
              "<Figure size 1080x576 with 1 Axes>"
            ],
            "image/png": "[encoded data removed]"
          },
          "metadata": {
            "needs_background": "light"
          }
        }
      ]
    },
    {
      "cell_type": "markdown",
      "source": [
        "**Data Visualization Insights**\n",
        "\n",
        "The data visualization of resturant locations and their online ordering capabilities has revealed that Electronic City has a high number of restaurants without online ordering options. This suggests that there may be less competition in terms of online ordering in this area, and thus opening a new restaurant in this location with online ordering capabilities, high scalability could potentially increase the chances of success in terms of customer acquisition, resulting in long termn high return rates."
      ],
      "metadata": {
        "id": "7OctE1xST26O"
      }
    },
    {
      "cell_type": "markdown",
      "source": [
        "\n",
        "\n",
        "---\n",
        "\n"
      ],
      "metadata": {
        "id": "7oUyIsMEeVCD"
      }
    },
    {
      "cell_type": "markdown",
      "source": [
        "# **Visualizing Top Cuisines (Most Popular)** **(Visualization 8)**\n"
      ],
      "metadata": {
        "id": "A9oCa6LycT7b"
      }
    },
    {
      "cell_type": "code",
      "source": [
        "plt.figure(figsize=(18,8))\n",
        "cuisines=df['cuisines'].value_counts()[1:10]\n",
        "sns.barplot(cuisines,cuisines.index)\n",
        "plt.xlabel('Count')\n",
        "plt.title(\"Most popular cuisines of Bangalore\")\n",
        "plt.show();"
      ],
      "metadata": {
        "colab": {
          "base_uri": "https://localhost:8080/",
          "height": 568
        },
        "id": "poBV58VJeXI-",
        "outputId": "647c8893-8c65-465a-c063-68e178a13792"
      },
      "execution_count": 265,
      "outputs": [
        {
          "output_type": "stream",
          "name": "stderr",
          "text": [
            "/usr/local/lib/python3.8/dist-packages/seaborn/_decorators.py:36: FutureWarning: Pass the following variables as keyword args: x, y. From version 0.12, the only valid positional argument will be `data`, and passing other arguments without an explicit keyword will result in an error or misinterpretation.\n",
            "  warnings.warn(\n"
          ]
        },
        {
          "output_type": "display_data",
          "data": {
            "text/plain": [
              "<Figure size 1296x576 with 1 Axes>"
            ],
            "image/png": "[encoded data removed]"
          },
          "metadata": {
            "needs_background": "light"
          }
        }
      ]
    },
    {
      "cell_type": "markdown",
      "source": [
        "**Data Visualization Insights**\n",
        "\n",
        "The bar graph above illustrates that the most sought-after types of cuisine in Bengaluru are North Indian, Chinese, and South Indian. Therefore, it would be beneficial for new or struggling restaurants to focus on these types of cuisine in order to increase their popularity, ratings, votes, customer base, and ultimately, their profit margins."
      ],
      "metadata": {
        "id": "VSbsiE6WhQUk"
      }
    },
    {
      "cell_type": "markdown",
      "source": [
        "\n",
        "\n",
        "---\n",
        "\n"
      ],
      "metadata": {
        "id": "WVsZDcQGeRag"
      }
    },
    {
      "cell_type": "markdown",
      "source": [
        "# **Comparison of different localities by the type of restaurant** **(Visualization 9)**"
      ],
      "metadata": {
        "id": "XUT4dclGSazD"
      }
    },
    {
      "cell_type": "code",
      "source": [
        "# Creating a copy of the original DataFrame\n",
        "df_07 = df.copy()\n",
        "\n",
        "# Creating a new column 'count' that contains the count of each type of restaurant for each locality\n",
        "df_07 = df_07.groupby(['location','rest_type']).size().reset_index(name='count')\n",
        "\n",
        "# Creating a stacked bar chart to compare different localities by the type of restaurant\n",
        "plt.figure(figsize=(25,12))\n",
        "sns.barplot(x='location', y='count', hue='rest_type', data=df_07)\n",
        "plt.title(\"Comparison of different localities by the type of restaurant\")\n",
        "plt.xlabel(\"Location\")\n",
        "plt.xticks(rotation = 90)\n",
        "plt.ylabel(\"Count\")\n",
        "plt.show()\n",
        "\n"
      ],
      "metadata": {
        "colab": {
          "base_uri": "https://localhost:8080/",
          "height": 773
        },
        "id": "n6TZMIS2aHlI",
        "outputId": "17bacac0-712a-4731-eff0-a482de7abf4d"
      },
      "execution_count": 266,
      "outputs": [
        {
          "output_type": "display_data",
          "data": {
            "text/plain": [
              "<Figure size 1800x864 with 1 Axes>"
            ],
            "image/png": "[encoded data removed]"
          },
          "metadata": {
            "needs_background": "light"
          }
        }
      ]
    },
    {
      "cell_type": "markdown",
      "source": [
        "# **Problem Statement** \n",
        "**2. How would you consider a restaurant to be successful?**\n",
        "\n",
        "**Data Visualization Insights**\n",
        "\n",
        "Solution :- \n",
        "\n",
        "**I would consider a resturant to be successful if** **it had all of these or most of these functionality.**\n",
        "\n",
        "1) Online order --Yes.\n",
        "\n",
        "2) Table Booking --Yes.\n",
        "\n",
        "3) Should have (North Indian, Chinese, South Indian Cuisines).\n",
        "\n",
        "4) Should belong to non-common type of resturant in a hot zone area so as to provide uncommon attraction to the customers.\n",
        "\n",
        "5) Good/high rating & Votes."
      ],
      "metadata": {
        "id": "Ie_bgqgY02zm"
      }
    },
    {
      "cell_type": "markdown",
      "source": [
        "# **Problem Statement** \n",
        "**3. What kind of restaurant do you have to start in order to be successful?**\n",
        "\n",
        "**Data Visualization Insights**\n",
        "\n",
        "Solution :-\n",
        "\n",
        "1. Resturants type like Quick Bites, Cassual Dining, Cafe are most popular to start with as the number of these are high, so restaurant owners should focus on launching these type of resturants in location where they are not frequently available. \n",
        "\n",
        "2. Resturants should have at least these top 3 cuisines (North Indian, Chinese, South Indian).\n",
        "\n",
        "3. Resturants in order to be successful in long terms, should be able to provide the facility of online_order, table_booking for attracking both (offline/online) Customers. "
      ],
      "metadata": {
        "id": "BW89fSZgzTvx"
      }
    },
    {
      "cell_type": "markdown",
      "source": [
        "# **Problem Statement** \n",
        "**4. Is it possible to compare different localities by the type of restaurant in the area?**\n",
        "\n",
        "**Data Visualization Insights**\n",
        "\n",
        "Solution :-\n",
        "\n",
        "\n",
        "Yes it is possible to compare different localities by the type of restaurant in the area. Above is the visualization approach to this problem. \n",
        "\n",
        "From the bar chart above, I have come up with followinfg insights.\n",
        "\n",
        "1) BTM is the location where most of the resturants are available. \n",
        "\n",
        "2) Quick Bites is the most popular type of resturant in this location. \n",
        "\n",
        "3) If someone wants to launch new resturant, then from above chart it is clearly visible, they should go with that type of resturants which are not in high frequency/number like (bakery, cafe) type of resturants. They will attract more customer compared to other types of resturants. \n",
        "\n",
        "4) Similarly, we can find the type of resturant that are high in number, and launch only that type of resturants, which are low in number resulting in high success. \n",
        "\n"
      ],
      "metadata": {
        "id": "4h7lqXsfORtA"
      }
    },
    {
      "cell_type": "markdown",
      "source": [
        "\n",
        "\n",
        "---\n",
        "\n"
      ],
      "metadata": {
        "id": "lMJkwQvVeE1e"
      }
    },
    {
      "cell_type": "markdown",
      "source": [
        "# **Problem Statement** \n",
        "**5. What kind of extra information can you provide using your understanding\n",
        "of the dataset?**\n",
        "\n",
        "\n",
        "\n",
        "Solution :- \n",
        "\n",
        "**a) Visualization 1**\n",
        "--> Cafe Coffe day, Onesta, Just Bake are the top best known resturants in Banglore. \n",
        "\n",
        "\n",
        "**2) Visualization 2**\n",
        "--> BTM, HSR, Koramangla 5th Block are some hot zones of resturants in banglore.\n",
        "\n",
        "**3) Visualization 3**\n",
        "--> Quick Bites, Castual Dining are some othe mostly available type of resturant. \n",
        "\n",
        "**4) Visualization 4**\n",
        "--> Brewski Brewing Company, The black pearl, Bit Pitcher are the some of the high voted resturants in banglore. \n",
        "\n",
        "--> Royal Afgan- ITC Windsor, The Leela Palace, Malities Raddison are some of the most expensice resturants in banglore. \n",
        "\n",
        "**5) Visualization 5**\n",
        "--> Around 60 % resturants in banglore provide online_order facility compared to 40 % resturants who dont.\n",
        "\n",
        "**6) Visualization 6**\n",
        "--> In shocking revealing from the EDA process conducted on dataset.\n",
        "\n",
        "**7) Visualization 7**\n",
        "--> BRT hostest resturant zone in banglore (has wide range of both types of resturants providing facility of both online and offline order.\n",
        "--> Location (Electronic City has least number of resturants with online facility). Therefore, resturants capable of managing high order of online ordering can benefit from launching resturant in this location. \n",
        "\n",
        "\n",
        "**8) Visualization 8**\n",
        "--> North Indian, Chinese, South Indian Cuisines are the most popular cuisines available in banglore resturants. \n",
        "\n",
        "**9) Visualization 9**\n",
        "--> From visualization we know that BTM is hottest zone for resturants in banglore, having Quick bites types of resturants the most. \n",
        "--> Less type of resturants avaliable in this location are (Cafe, Backery, Casual Dining). \n",
        "--> Therfore newly launched resturants should focus on this type of genre. "
      ],
      "metadata": {
        "id": "X9W_5Ir7sTka"
      }
    },
    {
      "cell_type": "markdown",
      "source": [
        "# **Impact of Order type on Rating** **(Visualization 10)**"
      ],
      "metadata": {
        "id": "RUq9fyhXczSf"
      }
    },
    {
      "cell_type": "markdown",
      "source": [
        "# **Problem Statement** \n",
        "**6. What is the impact of the ratings on the sales segregated based on an\n",
        "order type?**\n",
        "\n",
        "\n",
        "Solution :-\n",
        "\n",
        "As we can see from the above visualization of data (box plot, resturants that **provide online order facility** are among the **higest rated resturants in Banglore**. \n",
        "It can be also taken as, the customer who order from online are the only customer (majority group) that end up rating the resturant. On contradictory to resturants that doesnt provide online order facility. \n",
        "\n",
        "However it should also be noted that the overall mean of Online_order (Yes and No) vs rating, difference is not much.But still, the upper end of Online_order (Yes) is more compared to Order_online(No), indicating that Online_order (yes) results in leaving more impact on rating.  "
      ],
      "metadata": {
        "id": "myhwJyy2Cc7E"
      }
    },
    {
      "cell_type": "code",
      "source": [
        "# creating a boxplot of ratings by order type\n",
        "sns.boxplot(x='online_order', y='rate', data=df)\n",
        "plt.title('Impact of Rating on Order Type')\n",
        "plt.show()\n"
      ],
      "metadata": {
        "colab": {
          "base_uri": "https://localhost:8080/",
          "height": 296
        },
        "id": "uSNKvIMNkQmI",
        "outputId": "4fdcb458-6a09-488d-fef0-5b4beed97ae6"
      },
      "execution_count": 267,
      "outputs": [
        {
          "output_type": "display_data",
          "data": {
            "text/plain": [
              "<Figure size 432x288 with 1 Axes>"
            ],
            "image/png": "[encoded data removed]"
          },
          "metadata": {
            "needs_background": "light"
          }
        }
      ]
    },
    {
      "cell_type": "markdown",
      "source": [
        "\n",
        "\n",
        "---\n",
        "\n"
      ],
      "metadata": {
        "id": "ZbQ_490qeAPl"
      }
    },
    {
      "cell_type": "markdown",
      "source": [
        "# **Top five least-performing restaurants (Based on Rating)**"
      ],
      "metadata": {
        "id": "B7uuzjSOmdz3"
      }
    },
    {
      "cell_type": "code",
      "source": [
        "df_08 = df.copy()\n",
        "group_name = df_08.groupby('name').mean()\n",
        "group_name.sort_values(by='rate')[:5].plot(kind='bar', y='rate')\n"
      ],
      "metadata": {
        "colab": {
          "base_uri": "https://localhost:8080/",
          "height": 441
        },
        "id": "yaqJNyN1n0Ve",
        "outputId": "e33f9877-8e1f-409c-dbe4-d70e11e51f7b"
      },
      "execution_count": 268,
      "outputs": [
        {
          "output_type": "execute_result",
          "data": {
            "text/plain": [
              "<matplotlib.axes._subplots.AxesSubplot at 0x7fe4c0cf8670>"
            ]
          },
          "metadata": {},
          "execution_count": 268
        },
        {
          "output_type": "display_data",
          "data": {
            "text/plain": [
              "<Figure size 432x288 with 1 Axes>"
            ],
            "image/png": "[encoded data removed]"
          },
          "metadata": {
            "needs_background": "light"
          }
        }
      ]
    },
    {
      "cell_type": "markdown",
      "source": [
        "# **Problem Statement** \n",
        "**7. In a certain scenario five least-performing restaurants will have to shut\n",
        "their operations. Based on the data provided, what parameters will help\n",
        "them boost their sales? How & why**\n",
        "\n",
        "\n",
        "Solution :-\n",
        "\n",
        "Following paramerters will boost their sales\n",
        "\n",
        "**1) Using Visualization 3 (Displaying Top 20 restaurant types )**\n",
        "\n",
        "--> It is evident that resturant types like (Quick Bite, Cafe Coffe, Casual Dining) are more the popular type of resturants, therefore, these underperforming resturants should add items of these items. \n",
        "\n",
        "**2) Using Visualization 8 (Displaying Most popular cuisines of Banglore)**\n",
        "\n",
        "\n",
        "--> It is evident that resturants serving (North Indian, Chinese, South Indian) dishes/cuisines should be added in the serving menu of these resturants. \n",
        "\n",
        "**3) Using Visualization 5 (Order_type --online(yes/no) and visualization 6 (Table_booked--yes/no)**\n",
        "\n",
        "--> As it already found in the EDA process, most of resturants provide online order facility, these under performing resturants should add online-order facility if they dont have it already. \n",
        "\n",
        "--> Also, resturants having table-booking facility is very less 15%. Therefore these under-performing resturants should add this table-booking facility to add more customer base. \n",
        "\n",
        "\n",
        "**Other ways to boost the sales for these least five performing restaurants, there are a few parameters that could be considered:**\n",
        "\n",
        "1. Offering discounts or promotions to attract more customers.\n",
        "2. Improving the quality of the food and service.\n",
        "3. Expanding the menu with more options that appeal to customers.\n",
        "4. Investing in marketing and advertising to increase awareness.\n",
        "5. Analyzing customer feedback and making changes based on the feedback."
      ],
      "metadata": {
        "id": "oskxf_kFnpqD"
      }
    }
  ]
}